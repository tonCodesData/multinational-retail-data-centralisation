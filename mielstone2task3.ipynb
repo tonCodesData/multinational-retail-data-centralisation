{
 "cells": [
  {
   "attachments": {},
   "cell_type": "markdown",
   "metadata": {},
   "source": [
    "The historical data of users is currently stored in an AWS database in the cloud.\n",
    "Lets create methods in DataExtractor and DatabaseConnector class that will help extract the information from an AWS RDS database."
   ]
  },
  {
   "attachments": {},
   "cell_type": "markdown",
   "metadata": {},
   "source": [
    "Step 1:\n",
    "Create a db_creds.yaml file containing the database credentials, they are as follows:\n",
    "RDS_HOST: data-handling-project-readonly.cq2e8zno855e.eu-west-1.rds.amazonaws.com\n",
    "RDS_PASSWORD: AiCore2022\n",
    "RDS_USER: aicore_admin\n",
    "RDS_DATABASE: postgres\n",
    "RDS_PORT: 5432"
   ]
  },
  {
   "attachments": {},
   "cell_type": "markdown",
   "metadata": {},
   "source": [
    "Step 2:\n",
    "Create a method read_db_creds(): this will read the credentials yaml file and return a dictionary of the credentials.\n",
    "pip install PyYAML and import yaml to do this."
   ]
  },
  {
   "cell_type": "code",
   "execution_count": 1,
   "metadata": {},
   "outputs": [],
   "source": [
    "import yaml"
   ]
  },
  {
   "cell_type": "code",
   "execution_count": 2,
   "metadata": {},
   "outputs": [],
   "source": [
    "def read_db_creds(creds_filename):\n",
    "    file = open(creds_filename, 'r')\n",
    "    creds = yaml.safe_load(file)\n",
    "    return creds"
   ]
  },
  {
   "attachments": {},
   "cell_type": "markdown",
   "metadata": {},
   "source": [
    "Step 3:\n",
    "def init_db_engine(): \n",
    "- reads the credentials from the return of read_db_creds \n",
    "- initialise and return an sqlalchemy database engine."
   ]
  },
  {
   "cell_type": "code",
   "execution_count": 3,
   "metadata": {},
   "outputs": [],
   "source": [
    "from sqlalchemy import create_engine"
   ]
  },
  {
   "cell_type": "code",
   "execution_count": 4,
   "metadata": {},
   "outputs": [],
   "source": [
    "def init_db_engine(creds_filename):\n",
    "    creds = read_db_creds(creds_filename)    \n",
    "    HOST = creds['RDS_HOST']\n",
    "    PORT = creds['RDS_PORT']\n",
    "    USER = creds['RDS_USER']\n",
    "    PASSWORD = creds['RDS_PASSWORD']\n",
    "    DATABASE_TYPE = 'postgresql'\n",
    "    DBAPI = 'psycopg2'\n",
    "    DATABASE = creds['RDS_DATABASE']\n",
    "    engine = create_engine(f\"{DATABASE_TYPE}+{DBAPI}://{USER}:{PASSWORD}@{HOST}:{PORT}/{DATABASE}\")\n",
    "    return engine"
   ]
  },
  {
   "attachments": {},
   "cell_type": "markdown",
   "metadata": {},
   "source": [
    "Step 4: In DataExtractor class:\n",
    "df list_db_tables(): \n",
    "Use the engine from init_db_engine to list all the tables in the database"
   ]
  },
  {
   "cell_type": "code",
   "execution_count": 5,
   "metadata": {},
   "outputs": [],
   "source": [
    "from sqlalchemy import inspect"
   ]
  },
  {
   "cell_type": "code",
   "execution_count": 6,
   "metadata": {},
   "outputs": [],
   "source": [
    "def list_db_tables(filename): \n",
    "    engine  = init_db_engine(filename)\n",
    "    # list all the tables\n",
    "    table_name_ls = inspect(engine).get_table_names()\n",
    "    return table_name_ls"
   ]
  },
  {
   "cell_type": "code",
   "execution_count": 7,
   "metadata": {},
   "outputs": [],
   "source": [
    "table_name_ls = list_db_tables('db_creds.yaml')"
   ]
  },
  {
   "cell_type": "code",
   "execution_count": 8,
   "metadata": {},
   "outputs": [
    {
     "name": "stdout",
     "output_type": "stream",
     "text": [
      "legacy_store_details\n",
      "legacy_users\n",
      "orders_table\n"
     ]
    }
   ],
   "source": [
    "for i in range (len(table_name_ls)): \n",
    "    print (table_name_ls[i])\n"
   ]
  },
  {
   "attachments": {},
   "cell_type": "markdown",
   "metadata": {},
   "source": [
    "Step 5: \n",
    "in class DataExtractor: \n",
    "def read_rds_table(DatabaseConnector instance, table name):\n",
    " extract the database table to a pandas DataFrame.\n",
    " return the pd df\n",
    "\n",
    "It will take in an instance of your DatabaseConnector class and the table name as an argument and return a pandas DataFrame.\n"
   ]
  },
  {
   "cell_type": "code",
   "execution_count": 9,
   "metadata": {},
   "outputs": [],
   "source": [
    "import pandas as pd\n",
    "from sqlalchemy import connectors"
   ]
  },
  {
   "cell_type": "code",
   "execution_count": 10,
   "metadata": {},
   "outputs": [],
   "source": [
    "def read_rds_table(filename, table_name):\n",
    "    #engine = init_db_engine(creds_filename)\n",
    "    #conn = engine.connect()\n",
    "    #df_data = conn.execute()\n",
    "    engine = init_db_engine(filename)\n",
    "    users = pd.read_sql_query(f\"select * from {table_name}\", engine)\n",
    "    return users    "
   ]
  },
  {
   "cell_type": "code",
   "execution_count": 11,
   "metadata": {},
   "outputs": [],
   "source": [
    "users = read_rds_table(filename='db_creds.yaml', table_name='legacy_users')"
   ]
  },
  {
   "cell_type": "code",
   "execution_count": 12,
   "metadata": {},
   "outputs": [
    {
     "data": {
      "text/html": [
       "<div>\n",
       "<style scoped>\n",
       "    .dataframe tbody tr th:only-of-type {\n",
       "        vertical-align: middle;\n",
       "    }\n",
       "\n",
       "    .dataframe tbody tr th {\n",
       "        vertical-align: top;\n",
       "    }\n",
       "\n",
       "    .dataframe thead th {\n",
       "        text-align: right;\n",
       "    }\n",
       "</style>\n",
       "<table border=\"1\" class=\"dataframe\">\n",
       "  <thead>\n",
       "    <tr style=\"text-align: right;\">\n",
       "      <th></th>\n",
       "      <th>index</th>\n",
       "      <th>first_name</th>\n",
       "      <th>last_name</th>\n",
       "      <th>date_of_birth</th>\n",
       "      <th>company</th>\n",
       "      <th>email_address</th>\n",
       "      <th>address</th>\n",
       "      <th>country</th>\n",
       "      <th>country_code</th>\n",
       "      <th>phone_number</th>\n",
       "      <th>join_date</th>\n",
       "      <th>user_uuid</th>\n",
       "    </tr>\n",
       "  </thead>\n",
       "  <tbody>\n",
       "    <tr>\n",
       "      <th>0</th>\n",
       "      <td>0</td>\n",
       "      <td>Sigfried</td>\n",
       "      <td>Noack</td>\n",
       "      <td>1990-09-30</td>\n",
       "      <td>Heydrich Junitz KG</td>\n",
       "      <td>rudi79@winkler.de</td>\n",
       "      <td>Zimmerstr. 1/0\\n59015 Gießen</td>\n",
       "      <td>Germany</td>\n",
       "      <td>DE</td>\n",
       "      <td>+49(0) 047905356</td>\n",
       "      <td>2018-10-10</td>\n",
       "      <td>93caf182-e4e9-4c6e-bebb-60a1a9dcf9b8</td>\n",
       "    </tr>\n",
       "    <tr>\n",
       "      <th>1</th>\n",
       "      <td>1</td>\n",
       "      <td>Guy</td>\n",
       "      <td>Allen</td>\n",
       "      <td>1940-12-01</td>\n",
       "      <td>Fox Ltd</td>\n",
       "      <td>rhodesclifford@henderson.com</td>\n",
       "      <td>Studio 22a\\nLynne terrace\\nMcCarthymouth\\nTF0 9GH</td>\n",
       "      <td>United Kingdom</td>\n",
       "      <td>GB</td>\n",
       "      <td>(0161) 496 0674</td>\n",
       "      <td>2001-12-20</td>\n",
       "      <td>8fe96c3a-d62d-4eb5-b313-cf12d9126a49</td>\n",
       "    </tr>\n",
       "    <tr>\n",
       "      <th>2</th>\n",
       "      <td>2</td>\n",
       "      <td>Harry</td>\n",
       "      <td>Lawrence</td>\n",
       "      <td>1995-08-02</td>\n",
       "      <td>Johnson, Jones and Harris</td>\n",
       "      <td>glen98@bryant-marshall.co.uk</td>\n",
       "      <td>92 Ann drive\\nJoanborough\\nSK0 6LR</td>\n",
       "      <td>United Kingdom</td>\n",
       "      <td>GB</td>\n",
       "      <td>+44(0)121 4960340</td>\n",
       "      <td>2016-12-16</td>\n",
       "      <td>fc461df4-b919-48b2-909e-55c95a03fe6b</td>\n",
       "    </tr>\n",
       "    <tr>\n",
       "      <th>3</th>\n",
       "      <td>3</td>\n",
       "      <td>Darren</td>\n",
       "      <td>Hussain</td>\n",
       "      <td>1972-09-23</td>\n",
       "      <td>Wheeler LLC</td>\n",
       "      <td>daniellebryan@thompson.org</td>\n",
       "      <td>19 Robinson meadow\\nNew Tracy\\nW22 2QG</td>\n",
       "      <td>United Kingdom</td>\n",
       "      <td>GB</td>\n",
       "      <td>(0306) 999 0871</td>\n",
       "      <td>2004-02-23</td>\n",
       "      <td>6104719f-ef14-4b09-bf04-fb0c4620acb0</td>\n",
       "    </tr>\n",
       "    <tr>\n",
       "      <th>4</th>\n",
       "      <td>4</td>\n",
       "      <td>Garry</td>\n",
       "      <td>Stone</td>\n",
       "      <td>1952-12-20</td>\n",
       "      <td>Warner Inc</td>\n",
       "      <td>billy14@long-warren.com</td>\n",
       "      <td>3 White pass\\nHunterborough\\nNN96 4UE</td>\n",
       "      <td>United Kingdom</td>\n",
       "      <td>GB</td>\n",
       "      <td>0121 496 0225</td>\n",
       "      <td>2006-09-01</td>\n",
       "      <td>9523a6d3-b2dd-4670-a51a-36aebc89f579</td>\n",
       "    </tr>\n",
       "  </tbody>\n",
       "</table>\n",
       "</div>"
      ],
      "text/plain": [
       "   index first_name last_name date_of_birth                    company  \\\n",
       "0      0   Sigfried     Noack    1990-09-30         Heydrich Junitz KG   \n",
       "1      1        Guy     Allen    1940-12-01                    Fox Ltd   \n",
       "2      2      Harry  Lawrence    1995-08-02  Johnson, Jones and Harris   \n",
       "3      3     Darren   Hussain    1972-09-23                Wheeler LLC   \n",
       "4      4      Garry     Stone    1952-12-20                 Warner Inc   \n",
       "\n",
       "                  email_address  \\\n",
       "0             rudi79@winkler.de   \n",
       "1  rhodesclifford@henderson.com   \n",
       "2  glen98@bryant-marshall.co.uk   \n",
       "3    daniellebryan@thompson.org   \n",
       "4       billy14@long-warren.com   \n",
       "\n",
       "                                             address         country  \\\n",
       "0                       Zimmerstr. 1/0\\n59015 Gießen         Germany   \n",
       "1  Studio 22a\\nLynne terrace\\nMcCarthymouth\\nTF0 9GH  United Kingdom   \n",
       "2                 92 Ann drive\\nJoanborough\\nSK0 6LR  United Kingdom   \n",
       "3             19 Robinson meadow\\nNew Tracy\\nW22 2QG  United Kingdom   \n",
       "4              3 White pass\\nHunterborough\\nNN96 4UE  United Kingdom   \n",
       "\n",
       "  country_code       phone_number   join_date  \\\n",
       "0           DE   +49(0) 047905356  2018-10-10   \n",
       "1           GB    (0161) 496 0674  2001-12-20   \n",
       "2           GB  +44(0)121 4960340  2016-12-16   \n",
       "3           GB    (0306) 999 0871  2004-02-23   \n",
       "4           GB      0121 496 0225  2006-09-01   \n",
       "\n",
       "                              user_uuid  \n",
       "0  93caf182-e4e9-4c6e-bebb-60a1a9dcf9b8  \n",
       "1  8fe96c3a-d62d-4eb5-b313-cf12d9126a49  \n",
       "2  fc461df4-b919-48b2-909e-55c95a03fe6b  \n",
       "3  6104719f-ef14-4b09-bf04-fb0c4620acb0  \n",
       "4  9523a6d3-b2dd-4670-a51a-36aebc89f579  "
      ]
     },
     "execution_count": 12,
     "metadata": {},
     "output_type": "execute_result"
    }
   ],
   "source": [
    "users.head()"
   ]
  },
  {
   "attachments": {},
   "cell_type": "markdown",
   "metadata": {},
   "source": [
    "Use your list_db_tables method to get the name of the table containing user data.\n",
    "Use the read_rds_table method to extract the table containing user data and return a pandas DataFrame."
   ]
  },
  {
   "attachments": {},
   "cell_type": "markdown",
   "metadata": {},
   "source": [
    "Step 6:\n",
    "in DataCleaning class: \n",
    "def clean_user_data() -> perform the cleaning of the user data.\n",
    "\n",
    "You will need clean the user data, look out for NULL values, errors with dates, incorrectly typed values and rows filled with the wrong information."
   ]
  },
  {
   "cell_type": "code",
   "execution_count": 13,
   "metadata": {},
   "outputs": [
    {
     "name": "stdout",
     "output_type": "stream",
     "text": [
      "<class 'pandas.core.frame.DataFrame'>\n",
      "RangeIndex: 15320 entries, 0 to 15319\n",
      "Data columns (total 12 columns):\n",
      " #   Column         Non-Null Count  Dtype \n",
      "---  ------         --------------  ----- \n",
      " 0   index          15320 non-null  int64 \n",
      " 1   first_name     15320 non-null  object\n",
      " 2   last_name      15320 non-null  object\n",
      " 3   date_of_birth  15320 non-null  object\n",
      " 4   company        15320 non-null  object\n",
      " 5   email_address  15320 non-null  object\n",
      " 6   address        15320 non-null  object\n",
      " 7   country        15320 non-null  object\n",
      " 8   country_code   15320 non-null  object\n",
      " 9   phone_number   15320 non-null  object\n",
      " 10  join_date      15320 non-null  object\n",
      " 11  user_uuid      15320 non-null  object\n",
      "dtypes: int64(1), object(11)\n",
      "memory usage: 1.4+ MB\n"
     ]
    }
   ],
   "source": [
    "users.info()"
   ]
  },
  {
   "cell_type": "code",
   "execution_count": 14,
   "metadata": {},
   "outputs": [],
   "source": [
    "from datetime import datetime"
   ]
  },
  {
   "cell_type": "code",
   "execution_count": 15,
   "metadata": {},
   "outputs": [],
   "source": [
    "usercopy = users.copy()"
   ]
  },
  {
   "cell_type": "code",
   "execution_count": 16,
   "metadata": {},
   "outputs": [
    {
     "data": {
      "text/plain": [
       "0        1990-09-30\n",
       "1        1940-12-01\n",
       "2        1995-08-02\n",
       "3        1972-09-23\n",
       "4        1952-12-20\n",
       "            ...    \n",
       "15315    1943-08-09\n",
       "15316    1948-08-20\n",
       "15317    1940-10-09\n",
       "15318    1952-06-04\n",
       "15319    1994-03-27\n",
       "Name: date_of_birth, Length: 15320, dtype: object"
      ]
     },
     "execution_count": 16,
     "metadata": {},
     "output_type": "execute_result"
    }
   ],
   "source": [
    "usercopy['date_of_birth']"
   ]
  },
  {
   "cell_type": "code",
   "execution_count": 17,
   "metadata": {},
   "outputs": [],
   "source": [
    "import numpy as np"
   ]
  },
  {
   "attachments": {},
   "cell_type": "markdown",
   "metadata": {},
   "source": [
    "##### converting the date of birth column from object type to datetime64[ns]"
   ]
  },
  {
   "cell_type": "code",
   "execution_count": 18,
   "metadata": {},
   "outputs": [],
   "source": [
    "is_date = pd.to_datetime(usercopy['date_of_birth'], format='%Y-%m-%d', errors='coerce')\n",
    "usercopy = usercopy[is_date.notna()]"
   ]
  },
  {
   "cell_type": "code",
   "execution_count": 19,
   "metadata": {},
   "outputs": [],
   "source": [
    "usercopy['date_of_birth'] = usercopy['date_of_birth'].astype('datetime64[ns]')"
   ]
  },
  {
   "cell_type": "code",
   "execution_count": 20,
   "metadata": {},
   "outputs": [
    {
     "data": {
      "text/plain": [
       "0       1990-09-30\n",
       "1       1940-12-01\n",
       "2       1995-08-02\n",
       "3       1972-09-23\n",
       "4       1952-12-20\n",
       "           ...    \n",
       "15315   1943-08-09\n",
       "15316   1948-08-20\n",
       "15317   1940-10-09\n",
       "15318   1952-06-04\n",
       "15319   1994-03-27\n",
       "Name: date_of_birth, Length: 15268, dtype: datetime64[ns]"
      ]
     },
     "execution_count": 20,
     "metadata": {},
     "output_type": "execute_result"
    }
   ],
   "source": [
    "usercopy['date_of_birth']"
   ]
  },
  {
   "attachments": {},
   "cell_type": "markdown",
   "metadata": {},
   "source": [
    "##### converting join_date to datetime64[ns]"
   ]
  },
  {
   "cell_type": "code",
   "execution_count": 21,
   "metadata": {},
   "outputs": [
    {
     "data": {
      "text/plain": [
       "0        2018-10-10\n",
       "1        2001-12-20\n",
       "2        2016-12-16\n",
       "3        2004-02-23\n",
       "4        2006-09-01\n",
       "            ...    \n",
       "15315    2016-04-15\n",
       "15316    2020-07-20\n",
       "15317    2021-03-07\n",
       "15318    2011-01-03\n",
       "15319    2015-08-28\n",
       "Name: join_date, Length: 15268, dtype: object"
      ]
     },
     "execution_count": 21,
     "metadata": {},
     "output_type": "execute_result"
    }
   ],
   "source": [
    "usercopy['join_date']"
   ]
  },
  {
   "cell_type": "code",
   "execution_count": 22,
   "metadata": {},
   "outputs": [],
   "source": [
    "# finding the rows where data is not in correct format\n",
    "is_dt_form = pd.to_datetime(usercopy['join_date'], format='%Y-%m-%d', errors = 'coerce')\n",
    "# creating a new df with the is_dt_form series, where it is not NaN \n",
    "usercopy = usercopy[is_dt_form.notna()]"
   ]
  },
  {
   "cell_type": "code",
   "execution_count": 23,
   "metadata": {},
   "outputs": [],
   "source": [
    "# converting the 'join_date' in the new df to datetime\n",
    "usercopy['join_date'] = usercopy['join_date'].astype('datetime64[ns]')"
   ]
  },
  {
   "cell_type": "code",
   "execution_count": 24,
   "metadata": {},
   "outputs": [
    {
     "data": {
      "text/plain": [
       "0       2018-10-10\n",
       "1       2001-12-20\n",
       "2       2016-12-16\n",
       "3       2004-02-23\n",
       "4       2006-09-01\n",
       "           ...    \n",
       "15315   2016-04-15\n",
       "15316   2020-07-20\n",
       "15317   2021-03-07\n",
       "15318   2011-01-03\n",
       "15319   2015-08-28\n",
       "Name: join_date, Length: 15254, dtype: datetime64[ns]"
      ]
     },
     "execution_count": 24,
     "metadata": {},
     "output_type": "execute_result"
    }
   ],
   "source": [
    "usercopy['join_date']"
   ]
  },
  {
   "cell_type": "code",
   "execution_count": 25,
   "metadata": {},
   "outputs": [
    {
     "name": "stdout",
     "output_type": "stream",
     "text": [
      "<class 'pandas.core.frame.DataFrame'>\n",
      "Int64Index: 15254 entries, 0 to 15319\n",
      "Data columns (total 12 columns):\n",
      " #   Column         Non-Null Count  Dtype         \n",
      "---  ------         --------------  -----         \n",
      " 0   index          15254 non-null  int64         \n",
      " 1   first_name     15254 non-null  object        \n",
      " 2   last_name      15254 non-null  object        \n",
      " 3   date_of_birth  15254 non-null  datetime64[ns]\n",
      " 4   company        15254 non-null  object        \n",
      " 5   email_address  15254 non-null  object        \n",
      " 6   address        15254 non-null  object        \n",
      " 7   country        15254 non-null  object        \n",
      " 8   country_code   15254 non-null  object        \n",
      " 9   phone_number   15254 non-null  object        \n",
      " 10  join_date      15254 non-null  datetime64[ns]\n",
      " 11  user_uuid      15254 non-null  object        \n",
      "dtypes: datetime64[ns](2), int64(1), object(9)\n",
      "memory usage: 1.5+ MB\n"
     ]
    }
   ],
   "source": [
    "usercopy.info()"
   ]
  },
  {
   "attachments": {},
   "cell_type": "markdown",
   "metadata": {},
   "source": [
    "##### replacing wrong values of country code with correct one"
   ]
  },
  {
   "cell_type": "code",
   "execution_count": 26,
   "metadata": {},
   "outputs": [],
   "source": [
    "usercopy['country_code'] = usercopy['country_code'].astype('category')"
   ]
  },
  {
   "cell_type": "code",
   "execution_count": 27,
   "metadata": {},
   "outputs": [
    {
     "data": {
      "text/plain": [
       "0        DE\n",
       "1        GB\n",
       "2        GB\n",
       "3        GB\n",
       "4        GB\n",
       "         ..\n",
       "15315    GB\n",
       "15316    GB\n",
       "15317    DE\n",
       "15318    US\n",
       "15319    GB\n",
       "Name: country_code, Length: 15254, dtype: category\n",
       "Categories (4, object): ['DE', 'GB', 'GGB', 'US']"
      ]
     },
     "execution_count": 27,
     "metadata": {},
     "output_type": "execute_result"
    }
   ],
   "source": [
    "usercopy['country_code']"
   ]
  },
  {
   "cell_type": "code",
   "execution_count": 28,
   "metadata": {},
   "outputs": [
    {
     "data": {
      "text/plain": [
       "GB     9348\n",
       "DE     4698\n",
       "US     1202\n",
       "GGB       6\n",
       "Name: country_code, dtype: int64"
      ]
     },
     "execution_count": 28,
     "metadata": {},
     "output_type": "execute_result"
    }
   ],
   "source": [
    "usercopy['country_code'].value_counts()"
   ]
  },
  {
   "cell_type": "code",
   "execution_count": 29,
   "metadata": {},
   "outputs": [],
   "source": [
    "usercopy['country_code'] = usercopy['country_code'].replace('GGB', 'GB')"
   ]
  },
  {
   "cell_type": "code",
   "execution_count": 30,
   "metadata": {},
   "outputs": [
    {
     "data": {
      "text/plain": [
       "GB    9354\n",
       "DE    4698\n",
       "US    1202\n",
       "Name: country_code, dtype: int64"
      ]
     },
     "execution_count": 30,
     "metadata": {},
     "output_type": "execute_result"
    }
   ],
   "source": [
    "usercopy['country_code'].value_counts()"
   ]
  },
  {
   "cell_type": "code",
   "execution_count": 31,
   "metadata": {},
   "outputs": [
    {
     "data": {
      "text/plain": [
       "0        DE\n",
       "1        GB\n",
       "2        GB\n",
       "3        GB\n",
       "4        GB\n",
       "         ..\n",
       "15315    GB\n",
       "15316    GB\n",
       "15317    DE\n",
       "15318    US\n",
       "15319    GB\n",
       "Name: country_code, Length: 15254, dtype: category\n",
       "Categories (3, object): ['DE', 'GB', 'US']"
      ]
     },
     "execution_count": 31,
     "metadata": {},
     "output_type": "execute_result"
    }
   ],
   "source": [
    "usercopy['country_code']"
   ]
  },
  {
   "cell_type": "code",
   "execution_count": 32,
   "metadata": {},
   "outputs": [],
   "source": [
    "usercopy['country'] = usercopy['country'].astype('category')"
   ]
  },
  {
   "cell_type": "code",
   "execution_count": 33,
   "metadata": {},
   "outputs": [
    {
     "data": {
      "text/plain": [
       "0               Germany\n",
       "1        United Kingdom\n",
       "2        United Kingdom\n",
       "3        United Kingdom\n",
       "4        United Kingdom\n",
       "              ...      \n",
       "15315    United Kingdom\n",
       "15316    United Kingdom\n",
       "15317           Germany\n",
       "15318     United States\n",
       "15319    United Kingdom\n",
       "Name: country, Length: 15254, dtype: category\n",
       "Categories (3, object): ['Germany', 'United Kingdom', 'United States']"
      ]
     },
     "execution_count": 33,
     "metadata": {},
     "output_type": "execute_result"
    }
   ],
   "source": [
    "usercopy['country']"
   ]
  },
  {
   "cell_type": "code",
   "execution_count": 34,
   "metadata": {},
   "outputs": [
    {
     "data": {
      "text/plain": [
       "count              15254\n",
       "unique                 3\n",
       "top       United Kingdom\n",
       "freq                9354\n",
       "Name: country, dtype: object"
      ]
     },
     "execution_count": 34,
     "metadata": {},
     "output_type": "execute_result"
    }
   ],
   "source": [
    "usercopy['country'].describe()"
   ]
  },
  {
   "attachments": {},
   "cell_type": "markdown",
   "metadata": {},
   "source": [
    "### transforming to integers 'country_code', 'phone_number'"
   ]
  },
  {
   "cell_type": "code",
   "execution_count": 35,
   "metadata": {},
   "outputs": [
    {
     "data": {
      "text/html": [
       "<div>\n",
       "<style scoped>\n",
       "    .dataframe tbody tr th:only-of-type {\n",
       "        vertical-align: middle;\n",
       "    }\n",
       "\n",
       "    .dataframe tbody tr th {\n",
       "        vertical-align: top;\n",
       "    }\n",
       "\n",
       "    .dataframe thead th {\n",
       "        text-align: right;\n",
       "    }\n",
       "</style>\n",
       "<table border=\"1\" class=\"dataframe\">\n",
       "  <thead>\n",
       "    <tr style=\"text-align: right;\">\n",
       "      <th></th>\n",
       "      <th>phone_number</th>\n",
       "      <th>country_code</th>\n",
       "    </tr>\n",
       "  </thead>\n",
       "  <tbody>\n",
       "    <tr>\n",
       "      <th>0</th>\n",
       "      <td>+49(0) 047905356</td>\n",
       "      <td>DE</td>\n",
       "    </tr>\n",
       "    <tr>\n",
       "      <th>1</th>\n",
       "      <td>(0161) 496 0674</td>\n",
       "      <td>GB</td>\n",
       "    </tr>\n",
       "    <tr>\n",
       "      <th>2</th>\n",
       "      <td>+44(0)121 4960340</td>\n",
       "      <td>GB</td>\n",
       "    </tr>\n",
       "    <tr>\n",
       "      <th>3</th>\n",
       "      <td>(0306) 999 0871</td>\n",
       "      <td>GB</td>\n",
       "    </tr>\n",
       "    <tr>\n",
       "      <th>4</th>\n",
       "      <td>0121 496 0225</td>\n",
       "      <td>GB</td>\n",
       "    </tr>\n",
       "    <tr>\n",
       "      <th>...</th>\n",
       "      <td>...</td>\n",
       "      <td>...</td>\n",
       "    </tr>\n",
       "    <tr>\n",
       "      <th>95</th>\n",
       "      <td>(01756) 82716</td>\n",
       "      <td>DE</td>\n",
       "    </tr>\n",
       "    <tr>\n",
       "      <th>96</th>\n",
       "      <td>(00632) 193546</td>\n",
       "      <td>DE</td>\n",
       "    </tr>\n",
       "    <tr>\n",
       "      <th>97</th>\n",
       "      <td>+44(0)1614960324</td>\n",
       "      <td>GB</td>\n",
       "    </tr>\n",
       "    <tr>\n",
       "      <th>98</th>\n",
       "      <td>+44(0)1174960171</td>\n",
       "      <td>GB</td>\n",
       "    </tr>\n",
       "    <tr>\n",
       "      <th>99</th>\n",
       "      <td>+44(0)1632960663</td>\n",
       "      <td>GB</td>\n",
       "    </tr>\n",
       "  </tbody>\n",
       "</table>\n",
       "<p>100 rows × 2 columns</p>\n",
       "</div>"
      ],
      "text/plain": [
       "         phone_number country_code\n",
       "0    +49(0) 047905356           DE\n",
       "1     (0161) 496 0674           GB\n",
       "2   +44(0)121 4960340           GB\n",
       "3     (0306) 999 0871           GB\n",
       "4       0121 496 0225           GB\n",
       "..                ...          ...\n",
       "95      (01756) 82716           DE\n",
       "96     (00632) 193546           DE\n",
       "97   +44(0)1614960324           GB\n",
       "98   +44(0)1174960171           GB\n",
       "99   +44(0)1632960663           GB\n",
       "\n",
       "[100 rows x 2 columns]"
      ]
     },
     "execution_count": 35,
     "metadata": {},
     "output_type": "execute_result"
    }
   ],
   "source": [
    "usercopy[['phone_number', 'country_code']].head(100)"
   ]
  },
  {
   "cell_type": "code",
   "execution_count": 36,
   "metadata": {},
   "outputs": [],
   "source": [
    "usercopy['phone_number'] = usercopy['phone_number'].str.replace(' ', '')"
   ]
  },
  {
   "cell_type": "code",
   "execution_count": 37,
   "metadata": {},
   "outputs": [
    {
     "data": {
      "text/plain": [
       "0         +49(0)047905356\n",
       "1           (0161)4960674\n",
       "2        +44(0)1214960340\n",
       "3           (0306)9990871\n",
       "4             01214960225\n",
       "               ...       \n",
       "15315     +44(0)292018946\n",
       "15316    +44(0)1144960977\n",
       "15317          0298408192\n",
       "15318        239.711.3836\n",
       "15319    +44(0)1314960870\n",
       "Name: phone_number, Length: 15254, dtype: object"
      ]
     },
     "execution_count": 37,
     "metadata": {},
     "output_type": "execute_result"
    }
   ],
   "source": [
    "usercopy['phone_number']"
   ]
  },
  {
   "cell_type": "code",
   "execution_count": 38,
   "metadata": {},
   "outputs": [
    {
     "name": "stderr",
     "output_type": "stream",
     "text": [
      "C:\\Users\\joyet\\AppData\\Local\\Temp\\ipykernel_7928\\1438632267.py:1: FutureWarning: The default value of regex will change from True to False in a future version. In addition, single character regular expressions will *not* be treated as literal strings when regex=True.\n",
      "  usercopy['phone_number'] = usercopy['phone_number'].str.replace('.', '')\n"
     ]
    }
   ],
   "source": [
    "usercopy['phone_number'] = usercopy['phone_number'].str.replace('.', '')"
   ]
  },
  {
   "cell_type": "code",
   "execution_count": 39,
   "metadata": {},
   "outputs": [
    {
     "data": {
      "text/plain": [
       "0         +49(0)047905356\n",
       "1           (0161)4960674\n",
       "2        +44(0)1214960340\n",
       "3           (0306)9990871\n",
       "4             01214960225\n",
       "               ...       \n",
       "15315     +44(0)292018946\n",
       "15316    +44(0)1144960977\n",
       "15317          0298408192\n",
       "15318          2397113836\n",
       "15319    +44(0)1314960870\n",
       "Name: phone_number, Length: 15254, dtype: object"
      ]
     },
     "execution_count": 39,
     "metadata": {},
     "output_type": "execute_result"
    }
   ],
   "source": [
    "usercopy['phone_number']"
   ]
  },
  {
   "cell_type": "code",
   "execution_count": 40,
   "metadata": {},
   "outputs": [
    {
     "data": {
      "text/plain": [
       "0      +49(0)047905356\n",
       "1        (0161)4960674\n",
       "2     +44(0)1214960340\n",
       "3        (0306)9990871\n",
       "4          01214960225\n",
       "5    277-664-6389x8405\n",
       "6           0289018749\n",
       "7     +44(0)1414960221\n",
       "8          02890180338\n",
       "9           6554215915\n",
       "Name: phone_number, dtype: object"
      ]
     },
     "execution_count": 40,
     "metadata": {},
     "output_type": "execute_result"
    }
   ],
   "source": [
    "usercopy['phone_number'].head(10)"
   ]
  },
  {
   "cell_type": "code",
   "execution_count": 41,
   "metadata": {},
   "outputs": [],
   "source": [
    "usercopy['phone_number'] = usercopy['phone_number'].str.replace('x', ' ext. ')"
   ]
  },
  {
   "cell_type": "code",
   "execution_count": 42,
   "metadata": {},
   "outputs": [
    {
     "data": {
      "text/plain": [
       "Index(['index', 'first_name', 'last_name', 'date_of_birth', 'company',\n",
       "       'email_address', 'address', 'country', 'country_code', 'phone_number',\n",
       "       'join_date', 'user_uuid'],\n",
       "      dtype='object')"
      ]
     },
     "execution_count": 42,
     "metadata": {},
     "output_type": "execute_result"
    }
   ],
   "source": [
    "usercopy.columns"
   ]
  },
  {
   "cell_type": "code",
   "execution_count": 43,
   "metadata": {},
   "outputs": [
    {
     "name": "stdout",
     "output_type": "stream",
     "text": [
      "<class 'pandas.core.frame.DataFrame'>\n",
      "Int64Index: 15254 entries, 0 to 15319\n",
      "Data columns (total 12 columns):\n",
      " #   Column         Non-Null Count  Dtype         \n",
      "---  ------         --------------  -----         \n",
      " 0   index          15254 non-null  int64         \n",
      " 1   first_name     15254 non-null  object        \n",
      " 2   last_name      15254 non-null  object        \n",
      " 3   date_of_birth  15254 non-null  datetime64[ns]\n",
      " 4   company        15254 non-null  object        \n",
      " 5   email_address  15254 non-null  object        \n",
      " 6   address        15254 non-null  object        \n",
      " 7   country        15254 non-null  category      \n",
      " 8   country_code   15254 non-null  category      \n",
      " 9   phone_number   15254 non-null  object        \n",
      " 10  join_date      15254 non-null  datetime64[ns]\n",
      " 11  user_uuid      15254 non-null  object        \n",
      "dtypes: category(2), datetime64[ns](2), int64(1), object(7)\n",
      "memory usage: 1.3+ MB\n"
     ]
    }
   ],
   "source": [
    "usercopy.info()"
   ]
  },
  {
   "cell_type": "code",
   "execution_count": 44,
   "metadata": {},
   "outputs": [],
   "source": [
    "def is_uk(x): \n",
    "    if x == 'GB':\n",
    "        return True\n",
    "    elif x == 'US':\n",
    "        return False\n",
    "    else:\n",
    "        return False\n",
    "\n",
    "usercopy['uk_number'] = usercopy['country_code'].apply(is_uk)"
   ]
  },
  {
   "cell_type": "code",
   "execution_count": 45,
   "metadata": {},
   "outputs": [],
   "source": [
    "def is_us(x): \n",
    "    if x == 'US':\n",
    "        return True\n",
    "    elif x == 'GB':\n",
    "        return False\n",
    "    else:\n",
    "        return False\n",
    "\n",
    "usercopy['us_number'] = usercopy['country_code'].apply(is_us)"
   ]
  },
  {
   "cell_type": "code",
   "execution_count": 46,
   "metadata": {},
   "outputs": [],
   "source": [
    "def is_de(x): \n",
    "    if x == 'DE':\n",
    "        return True\n",
    "    elif x == 'US':\n",
    "        return False\n",
    "    else:\n",
    "        return False\n",
    "\n",
    "usercopy['de_number'] = usercopy['country_code'].apply(is_de)"
   ]
  },
  {
   "cell_type": "code",
   "execution_count": 47,
   "metadata": {},
   "outputs": [
    {
     "data": {
      "text/html": [
       "<div>\n",
       "<style scoped>\n",
       "    .dataframe tbody tr th:only-of-type {\n",
       "        vertical-align: middle;\n",
       "    }\n",
       "\n",
       "    .dataframe tbody tr th {\n",
       "        vertical-align: top;\n",
       "    }\n",
       "\n",
       "    .dataframe thead th {\n",
       "        text-align: right;\n",
       "    }\n",
       "</style>\n",
       "<table border=\"1\" class=\"dataframe\">\n",
       "  <thead>\n",
       "    <tr style=\"text-align: right;\">\n",
       "      <th></th>\n",
       "      <th>country_code</th>\n",
       "      <th>country</th>\n",
       "      <th>phone_number</th>\n",
       "      <th>uk_number</th>\n",
       "      <th>us_number</th>\n",
       "      <th>de_number</th>\n",
       "    </tr>\n",
       "  </thead>\n",
       "  <tbody>\n",
       "    <tr>\n",
       "      <th>0</th>\n",
       "      <td>DE</td>\n",
       "      <td>Germany</td>\n",
       "      <td>+49(0)047905356</td>\n",
       "      <td>False</td>\n",
       "      <td>False</td>\n",
       "      <td>True</td>\n",
       "    </tr>\n",
       "    <tr>\n",
       "      <th>1</th>\n",
       "      <td>GB</td>\n",
       "      <td>United Kingdom</td>\n",
       "      <td>(0161)4960674</td>\n",
       "      <td>True</td>\n",
       "      <td>False</td>\n",
       "      <td>False</td>\n",
       "    </tr>\n",
       "    <tr>\n",
       "      <th>2</th>\n",
       "      <td>GB</td>\n",
       "      <td>United Kingdom</td>\n",
       "      <td>+44(0)1214960340</td>\n",
       "      <td>True</td>\n",
       "      <td>False</td>\n",
       "      <td>False</td>\n",
       "    </tr>\n",
       "    <tr>\n",
       "      <th>3</th>\n",
       "      <td>GB</td>\n",
       "      <td>United Kingdom</td>\n",
       "      <td>(0306)9990871</td>\n",
       "      <td>True</td>\n",
       "      <td>False</td>\n",
       "      <td>False</td>\n",
       "    </tr>\n",
       "    <tr>\n",
       "      <th>4</th>\n",
       "      <td>GB</td>\n",
       "      <td>United Kingdom</td>\n",
       "      <td>01214960225</td>\n",
       "      <td>True</td>\n",
       "      <td>False</td>\n",
       "      <td>False</td>\n",
       "    </tr>\n",
       "    <tr>\n",
       "      <th>5</th>\n",
       "      <td>US</td>\n",
       "      <td>United States</td>\n",
       "      <td>277-664-6389 ext. 8405</td>\n",
       "      <td>False</td>\n",
       "      <td>True</td>\n",
       "      <td>False</td>\n",
       "    </tr>\n",
       "    <tr>\n",
       "      <th>6</th>\n",
       "      <td>GB</td>\n",
       "      <td>United Kingdom</td>\n",
       "      <td>0289018749</td>\n",
       "      <td>True</td>\n",
       "      <td>False</td>\n",
       "      <td>False</td>\n",
       "    </tr>\n",
       "    <tr>\n",
       "      <th>7</th>\n",
       "      <td>GB</td>\n",
       "      <td>United Kingdom</td>\n",
       "      <td>+44(0)1414960221</td>\n",
       "      <td>True</td>\n",
       "      <td>False</td>\n",
       "      <td>False</td>\n",
       "    </tr>\n",
       "    <tr>\n",
       "      <th>8</th>\n",
       "      <td>GB</td>\n",
       "      <td>United Kingdom</td>\n",
       "      <td>02890180338</td>\n",
       "      <td>True</td>\n",
       "      <td>False</td>\n",
       "      <td>False</td>\n",
       "    </tr>\n",
       "    <tr>\n",
       "      <th>9</th>\n",
       "      <td>US</td>\n",
       "      <td>United States</td>\n",
       "      <td>6554215915</td>\n",
       "      <td>False</td>\n",
       "      <td>True</td>\n",
       "      <td>False</td>\n",
       "    </tr>\n",
       "    <tr>\n",
       "      <th>10</th>\n",
       "      <td>GB</td>\n",
       "      <td>United Kingdom</td>\n",
       "      <td>+441414960404</td>\n",
       "      <td>True</td>\n",
       "      <td>False</td>\n",
       "      <td>False</td>\n",
       "    </tr>\n",
       "    <tr>\n",
       "      <th>11</th>\n",
       "      <td>GB</td>\n",
       "      <td>United Kingdom</td>\n",
       "      <td>(0114)4960775</td>\n",
       "      <td>True</td>\n",
       "      <td>False</td>\n",
       "      <td>False</td>\n",
       "    </tr>\n",
       "    <tr>\n",
       "      <th>12</th>\n",
       "      <td>GB</td>\n",
       "      <td>United Kingdom</td>\n",
       "      <td>(028)90180333</td>\n",
       "      <td>True</td>\n",
       "      <td>False</td>\n",
       "      <td>False</td>\n",
       "    </tr>\n",
       "    <tr>\n",
       "      <th>13</th>\n",
       "      <td>DE</td>\n",
       "      <td>Germany</td>\n",
       "      <td>+49(0)977574337</td>\n",
       "      <td>False</td>\n",
       "      <td>False</td>\n",
       "      <td>True</td>\n",
       "    </tr>\n",
       "    <tr>\n",
       "      <th>14</th>\n",
       "      <td>DE</td>\n",
       "      <td>Germany</td>\n",
       "      <td>+49(0)0406372221</td>\n",
       "      <td>False</td>\n",
       "      <td>False</td>\n",
       "      <td>True</td>\n",
       "    </tr>\n",
       "    <tr>\n",
       "      <th>15</th>\n",
       "      <td>GB</td>\n",
       "      <td>United Kingdom</td>\n",
       "      <td>+441174960765</td>\n",
       "      <td>True</td>\n",
       "      <td>False</td>\n",
       "      <td>False</td>\n",
       "    </tr>\n",
       "    <tr>\n",
       "      <th>16</th>\n",
       "      <td>US</td>\n",
       "      <td>United States</td>\n",
       "      <td>5720688397</td>\n",
       "      <td>False</td>\n",
       "      <td>True</td>\n",
       "      <td>False</td>\n",
       "    </tr>\n",
       "    <tr>\n",
       "      <th>17</th>\n",
       "      <td>GB</td>\n",
       "      <td>United Kingdom</td>\n",
       "      <td>(0114)4960518</td>\n",
       "      <td>True</td>\n",
       "      <td>False</td>\n",
       "      <td>False</td>\n",
       "    </tr>\n",
       "    <tr>\n",
       "      <th>18</th>\n",
       "      <td>DE</td>\n",
       "      <td>Germany</td>\n",
       "      <td>08346147221</td>\n",
       "      <td>False</td>\n",
       "      <td>False</td>\n",
       "      <td>True</td>\n",
       "    </tr>\n",
       "    <tr>\n",
       "      <th>19</th>\n",
       "      <td>GB</td>\n",
       "      <td>United Kingdom</td>\n",
       "      <td>+443069990447</td>\n",
       "      <td>True</td>\n",
       "      <td>False</td>\n",
       "      <td>False</td>\n",
       "    </tr>\n",
       "  </tbody>\n",
       "</table>\n",
       "</div>"
      ],
      "text/plain": [
       "   country_code         country            phone_number  uk_number  us_number  \\\n",
       "0            DE         Germany         +49(0)047905356      False      False   \n",
       "1            GB  United Kingdom           (0161)4960674       True      False   \n",
       "2            GB  United Kingdom        +44(0)1214960340       True      False   \n",
       "3            GB  United Kingdom           (0306)9990871       True      False   \n",
       "4            GB  United Kingdom             01214960225       True      False   \n",
       "5            US   United States  277-664-6389 ext. 8405      False       True   \n",
       "6            GB  United Kingdom              0289018749       True      False   \n",
       "7            GB  United Kingdom        +44(0)1414960221       True      False   \n",
       "8            GB  United Kingdom             02890180338       True      False   \n",
       "9            US   United States              6554215915      False       True   \n",
       "10           GB  United Kingdom           +441414960404       True      False   \n",
       "11           GB  United Kingdom           (0114)4960775       True      False   \n",
       "12           GB  United Kingdom           (028)90180333       True      False   \n",
       "13           DE         Germany         +49(0)977574337      False      False   \n",
       "14           DE         Germany        +49(0)0406372221      False      False   \n",
       "15           GB  United Kingdom           +441174960765       True      False   \n",
       "16           US   United States              5720688397      False       True   \n",
       "17           GB  United Kingdom           (0114)4960518       True      False   \n",
       "18           DE         Germany             08346147221      False      False   \n",
       "19           GB  United Kingdom           +443069990447       True      False   \n",
       "\n",
       "    de_number  \n",
       "0        True  \n",
       "1       False  \n",
       "2       False  \n",
       "3       False  \n",
       "4       False  \n",
       "5       False  \n",
       "6       False  \n",
       "7       False  \n",
       "8       False  \n",
       "9       False  \n",
       "10      False  \n",
       "11      False  \n",
       "12      False  \n",
       "13       True  \n",
       "14       True  \n",
       "15      False  \n",
       "16      False  \n",
       "17      False  \n",
       "18       True  \n",
       "19      False  "
      ]
     },
     "execution_count": 47,
     "metadata": {},
     "output_type": "execute_result"
    }
   ],
   "source": [
    "usercopy[['country_code', 'country', 'phone_number', 'uk_number', 'us_number', 'de_number']].head(20)"
   ]
  },
  {
   "cell_type": "code",
   "execution_count": 48,
   "metadata": {},
   "outputs": [],
   "source": [
    "usercopy['phone_number'] = usercopy['phone_number'].astype('string')"
   ]
  },
  {
   "cell_type": "code",
   "execution_count": 49,
   "metadata": {},
   "outputs": [
    {
     "name": "stdout",
     "output_type": "stream",
     "text": [
      "<class 'pandas.core.frame.DataFrame'>\n",
      "Int64Index: 15254 entries, 0 to 15319\n",
      "Data columns (total 15 columns):\n",
      " #   Column         Non-Null Count  Dtype         \n",
      "---  ------         --------------  -----         \n",
      " 0   index          15254 non-null  int64         \n",
      " 1   first_name     15254 non-null  object        \n",
      " 2   last_name      15254 non-null  object        \n",
      " 3   date_of_birth  15254 non-null  datetime64[ns]\n",
      " 4   company        15254 non-null  object        \n",
      " 5   email_address  15254 non-null  object        \n",
      " 6   address        15254 non-null  object        \n",
      " 7   country        15254 non-null  category      \n",
      " 8   country_code   15254 non-null  category      \n",
      " 9   phone_number   15254 non-null  string        \n",
      " 10  join_date      15254 non-null  datetime64[ns]\n",
      " 11  user_uuid      15254 non-null  object        \n",
      " 12  uk_number      15254 non-null  bool          \n",
      " 13  us_number      15254 non-null  bool          \n",
      " 14  de_number      15254 non-null  bool          \n",
      "dtypes: bool(3), category(2), datetime64[ns](2), int64(1), object(6), string(1)\n",
      "memory usage: 1.4+ MB\n"
     ]
    }
   ],
   "source": [
    "usercopy.info()"
   ]
  },
  {
   "cell_type": "code",
   "execution_count": 50,
   "metadata": {},
   "outputs": [],
   "source": [
    "import re"
   ]
  },
  {
   "cell_type": "code",
   "execution_count": 51,
   "metadata": {},
   "outputs": [
    {
     "name": "stderr",
     "output_type": "stream",
     "text": [
      "C:\\Users\\joyet\\AppData\\Local\\Temp\\ipykernel_7928\\274966882.py:1: FutureWarning: The default value of regex will change from True to False in a future version.\n",
      "  usercopy['phone_number'] = usercopy['phone_number'].str.replace('\\(', '')\n"
     ]
    }
   ],
   "source": [
    "usercopy['phone_number'] = usercopy['phone_number'].str.replace('\\(', '')"
   ]
  },
  {
   "cell_type": "code",
   "execution_count": 52,
   "metadata": {},
   "outputs": [
    {
     "name": "stderr",
     "output_type": "stream",
     "text": [
      "C:\\Users\\joyet\\AppData\\Local\\Temp\\ipykernel_7928\\736711661.py:1: FutureWarning: The default value of regex will change from True to False in a future version.\n",
      "  usercopy['phone_number'] = usercopy['phone_number'].str.replace('\\)', '')\n"
     ]
    }
   ],
   "source": [
    "usercopy['phone_number'] = usercopy['phone_number'].str.replace('\\)', '')"
   ]
  },
  {
   "cell_type": "code",
   "execution_count": 53,
   "metadata": {},
   "outputs": [
    {
     "data": {
      "text/plain": [
       "0              +490047905356\n",
       "1                01614960674\n",
       "2             +4401214960340\n",
       "3                03069990871\n",
       "4                01214960225\n",
       "5     277-664-6389 ext. 8405\n",
       "6                 0289018749\n",
       "7             +4401414960221\n",
       "8                02890180338\n",
       "9                 6554215915\n",
       "10             +441414960404\n",
       "11               01144960775\n",
       "12               02890180333\n",
       "13             +490977574337\n",
       "14            +4900406372221\n",
       "15             +441174960765\n",
       "16                5720688397\n",
       "17               01144960518\n",
       "18               08346147221\n",
       "19             +443069990447\n",
       "Name: phone_number, dtype: string"
      ]
     },
     "execution_count": 53,
     "metadata": {},
     "output_type": "execute_result"
    }
   ],
   "source": [
    "usercopy['phone_number'].head(20)"
   ]
  },
  {
   "cell_type": "code",
   "execution_count": 54,
   "metadata": {},
   "outputs": [
    {
     "name": "stdout",
     "output_type": "stream",
     "text": [
      "<class 'pandas.core.frame.DataFrame'>\n",
      "Int64Index: 15254 entries, 0 to 15319\n",
      "Data columns (total 15 columns):\n",
      " #   Column         Non-Null Count  Dtype         \n",
      "---  ------         --------------  -----         \n",
      " 0   index          15254 non-null  int64         \n",
      " 1   first_name     15254 non-null  object        \n",
      " 2   last_name      15254 non-null  object        \n",
      " 3   date_of_birth  15254 non-null  datetime64[ns]\n",
      " 4   company        15254 non-null  object        \n",
      " 5   email_address  15254 non-null  object        \n",
      " 6   address        15254 non-null  object        \n",
      " 7   country        15254 non-null  category      \n",
      " 8   country_code   15254 non-null  category      \n",
      " 9   phone_number   15254 non-null  string        \n",
      " 10  join_date      15254 non-null  datetime64[ns]\n",
      " 11  user_uuid      15254 non-null  object        \n",
      " 12  uk_number      15254 non-null  bool          \n",
      " 13  us_number      15254 non-null  bool          \n",
      " 14  de_number      15254 non-null  bool          \n",
      "dtypes: bool(3), category(2), datetime64[ns](2), int64(1), object(6), string(1)\n",
      "memory usage: 1.4+ MB\n"
     ]
    }
   ],
   "source": [
    "usercopy.info()"
   ]
  },
  {
   "cell_type": "code",
   "execution_count": 69,
   "metadata": {},
   "outputs": [],
   "source": [
    "duplicated_phone_number = usercopy.duplicated(subset=['user_uuid', 'phone_number', 'address', 'email_address'], keep = False)"
   ]
  },
  {
   "cell_type": "code",
   "execution_count": 70,
   "metadata": {},
   "outputs": [
    {
     "data": {
      "text/plain": [
       "False    15254\n",
       "dtype: int64"
      ]
     },
     "execution_count": 70,
     "metadata": {},
     "output_type": "execute_result"
    }
   ],
   "source": [
    "duplicated_phone_number.value_counts()"
   ]
  },
  {
   "cell_type": "code",
   "execution_count": 71,
   "metadata": {},
   "outputs": [
    {
     "data": {
      "text/html": [
       "<div>\n",
       "<style scoped>\n",
       "    .dataframe tbody tr th:only-of-type {\n",
       "        vertical-align: middle;\n",
       "    }\n",
       "\n",
       "    .dataframe tbody tr th {\n",
       "        vertical-align: top;\n",
       "    }\n",
       "\n",
       "    .dataframe thead th {\n",
       "        text-align: right;\n",
       "    }\n",
       "</style>\n",
       "<table border=\"1\" class=\"dataframe\">\n",
       "  <thead>\n",
       "    <tr style=\"text-align: right;\">\n",
       "      <th></th>\n",
       "      <th>index</th>\n",
       "      <th>first_name</th>\n",
       "      <th>last_name</th>\n",
       "      <th>date_of_birth</th>\n",
       "      <th>company</th>\n",
       "      <th>email_address</th>\n",
       "      <th>address</th>\n",
       "      <th>country</th>\n",
       "      <th>country_code</th>\n",
       "      <th>phone_number</th>\n",
       "      <th>join_date</th>\n",
       "      <th>user_uuid</th>\n",
       "      <th>uk_number</th>\n",
       "      <th>us_number</th>\n",
       "      <th>de_number</th>\n",
       "    </tr>\n",
       "  </thead>\n",
       "  <tbody>\n",
       "  </tbody>\n",
       "</table>\n",
       "</div>"
      ],
      "text/plain": [
       "Empty DataFrame\n",
       "Columns: [index, first_name, last_name, date_of_birth, company, email_address, address, country, country_code, phone_number, join_date, user_uuid, uk_number, us_number, de_number]\n",
       "Index: []"
      ]
     },
     "execution_count": 71,
     "metadata": {},
     "output_type": "execute_result"
    }
   ],
   "source": [
    "usercopy[duplicated_phone_number]"
   ]
  },
  {
   "cell_type": "code",
   "execution_count": 72,
   "metadata": {},
   "outputs": [],
   "source": [
    "is_valid = lambda x : True if '@' in x else False\n",
    "valid_email = usercopy['email_address'].apply(is_valid)"
   ]
  },
  {
   "cell_type": "code",
   "execution_count": 74,
   "metadata": {},
   "outputs": [
    {
     "data": {
      "text/plain": [
       "True    15254\n",
       "Name: email_address, dtype: int64"
      ]
     },
     "execution_count": 74,
     "metadata": {},
     "output_type": "execute_result"
    }
   ],
   "source": [
    "valid_email.value_counts()"
   ]
  },
  {
   "cell_type": "code",
   "execution_count": 73,
   "metadata": {},
   "outputs": [],
   "source": [
    "usercopy['valid_email'] = valid_email"
   ]
  },
  {
   "cell_type": "code",
   "execution_count": 78,
   "metadata": {},
   "outputs": [],
   "source": [
    "uk_numbers  = usercopy[usercopy['country_code'] == 'GB']"
   ]
  },
  {
   "cell_type": "code",
   "execution_count": 79,
   "metadata": {},
   "outputs": [
    {
     "name": "stdout",
     "output_type": "stream",
     "text": [
      "<class 'pandas.core.frame.DataFrame'>\n",
      "Int64Index: 9354 entries, 1 to 15319\n",
      "Data columns (total 16 columns):\n",
      " #   Column         Non-Null Count  Dtype         \n",
      "---  ------         --------------  -----         \n",
      " 0   index          9354 non-null   int64         \n",
      " 1   first_name     9354 non-null   object        \n",
      " 2   last_name      9354 non-null   object        \n",
      " 3   date_of_birth  9354 non-null   datetime64[ns]\n",
      " 4   company        9354 non-null   object        \n",
      " 5   email_address  9354 non-null   object        \n",
      " 6   address        9354 non-null   object        \n",
      " 7   country        9354 non-null   category      \n",
      " 8   country_code   9354 non-null   category      \n",
      " 9   phone_number   9354 non-null   string        \n",
      " 10  join_date      9354 non-null   datetime64[ns]\n",
      " 11  user_uuid      9354 non-null   object        \n",
      " 12  uk_number      9354 non-null   bool          \n",
      " 13  us_number      9354 non-null   bool          \n",
      " 14  de_number      9354 non-null   bool          \n",
      " 15  valid_email    9354 non-null   bool          \n",
      "dtypes: bool(4), category(2), datetime64[ns](2), int64(1), object(6), string(1)\n",
      "memory usage: 858.9+ KB\n"
     ]
    }
   ],
   "source": [
    "uk_numbers.info()"
   ]
  },
  {
   "cell_type": "code",
   "execution_count": 57,
   "metadata": {},
   "outputs": [
    {
     "ename": "SyntaxError",
     "evalue": "invalid syntax (1476942120.py, line 1)",
     "output_type": "error",
     "traceback": [
      "\u001b[1;36m  Cell \u001b[1;32mIn[57], line 1\u001b[1;36m\u001b[0m\n\u001b[1;33m    Step 7:\u001b[0m\n\u001b[1;37m         ^\u001b[0m\n\u001b[1;31mSyntaxError\u001b[0m\u001b[1;31m:\u001b[0m invalid syntax\n"
     ]
    }
   ],
   "source": [
    "Step 7:\n",
    "\n",
    "Now create a method in your DatabaseConnector class called upload_to_db. This method will take in a Pandas DataFrame and table name to upload to as an argument.\n",
    "\n",
    "\n",
    "Step 8:\n",
    "\n",
    "Once extracted and cleaned use the upload_to_db method to store the data in your Sales_Data database in a table named dim_users."
   ]
  }
 ],
 "metadata": {
  "kernelspec": {
   "display_name": "data",
   "language": "python",
   "name": "python3"
  },
  "language_info": {
   "codemirror_mode": {
    "name": "ipython",
    "version": 3
   },
   "file_extension": ".py",
   "mimetype": "text/x-python",
   "name": "python",
   "nbconvert_exporter": "python",
   "pygments_lexer": "ipython3",
   "version": "3.9.16"
  },
  "orig_nbformat": 4,
  "vscode": {
   "interpreter": {
    "hash": "18855b383135d746b09f42f60900136a62f643159843bfd579fcf85e20aa1819"
   }
  }
 },
 "nbformat": 4,
 "nbformat_minor": 2
}
