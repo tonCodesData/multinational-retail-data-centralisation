{
 "cells": [
  {
   "cell_type": "code",
   "execution_count": null,
   "metadata": {},
   "outputs": [],
   "source": [
    "# setting up a database and connect to \n",
    "#  it using pgadmin\n",
    "\n",
    "\n",
    "\n"
   ]
  }
 ],
 "metadata": {
  "kernelspec": {
   "display_name": "vision",
   "language": "python",
   "name": "python3"
  },
  "language_info": {
   "name": "python",
   "version": "3.9.16"
  },
  "orig_nbformat": 4,
  "vscode": {
   "interpreter": {
    "hash": "6b8ff2467d654b7b08abf4a79c784b6b34dcb5d208a5e3afc8709468faedbd69"
   }
  }
 },
 "nbformat": 4,
 "nbformat_minor": 2
}
