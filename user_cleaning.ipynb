{
 "cells": [
  {
   "cell_type": "code",
   "execution_count": 1,
   "metadata": {},
   "outputs": [],
   "source": [
    "import pandas as pd"
   ]
  },
  {
   "cell_type": "code",
   "execution_count": 2,
   "metadata": {},
   "outputs": [],
   "source": [
    "pd.set_option('display.max_rows', 1000) \n",
    "pd.set_option('display.max_columns', 1000)\n",
    "pd.set_option('display.width', 1000)"
   ]
  },
  {
   "attachments": {},
   "cell_type": "markdown",
   "metadata": {},
   "source": [
    "##### creates the user df from users.csv file"
   ]
  },
  {
   "cell_type": "code",
   "execution_count": 3,
   "metadata": {},
   "outputs": [],
   "source": [
    "users = pd.read_csv('users.csv')"
   ]
  },
  {
   "attachments": {},
   "cell_type": "markdown",
   "metadata": {},
   "source": [
    "##### look out for NULL values, errors with dates, incorrectly typed values and rows filled with the wrong information"
   ]
  },
  {
   "cell_type": "code",
   "execution_count": 4,
   "metadata": {},
   "outputs": [],
   "source": [
    "userdf = users.copy()"
   ]
  },
  {
   "cell_type": "code",
   "execution_count": 5,
   "metadata": {},
   "outputs": [],
   "source": [
    "# drops the column 'Unnamed:0' which seems to be unnecessary\n",
    "userdf.drop(['Unnamed: 0'], axis=1, inplace=True)"
   ]
  },
  {
   "cell_type": "code",
   "execution_count": 6,
   "metadata": {},
   "outputs": [
    {
     "data": {
      "text/html": [
       "<div>\n",
       "<style scoped>\n",
       "    .dataframe tbody tr th:only-of-type {\n",
       "        vertical-align: middle;\n",
       "    }\n",
       "\n",
       "    .dataframe tbody tr th {\n",
       "        vertical-align: top;\n",
       "    }\n",
       "\n",
       "    .dataframe thead th {\n",
       "        text-align: right;\n",
       "    }\n",
       "</style>\n",
       "<table border=\"1\" class=\"dataframe\">\n",
       "  <thead>\n",
       "    <tr style=\"text-align: right;\">\n",
       "      <th></th>\n",
       "      <th>index</th>\n",
       "      <th>first_name</th>\n",
       "      <th>last_name</th>\n",
       "      <th>date_of_birth</th>\n",
       "      <th>company</th>\n",
       "      <th>email_address</th>\n",
       "      <th>address</th>\n",
       "      <th>country</th>\n",
       "      <th>country_code</th>\n",
       "      <th>phone_number</th>\n",
       "      <th>join_date</th>\n",
       "      <th>user_uuid</th>\n",
       "    </tr>\n",
       "  </thead>\n",
       "  <tbody>\n",
       "    <tr>\n",
       "      <th>0</th>\n",
       "      <td>0</td>\n",
       "      <td>Sigfried</td>\n",
       "      <td>Noack</td>\n",
       "      <td>1990-09-30</td>\n",
       "      <td>Heydrich Junitz KG</td>\n",
       "      <td>rudi79@winkler.de</td>\n",
       "      <td>Zimmerstr. 1/0\\n59015 Gießen</td>\n",
       "      <td>Germany</td>\n",
       "      <td>DE</td>\n",
       "      <td>+49(0) 047905356</td>\n",
       "      <td>2018-10-10</td>\n",
       "      <td>93caf182-e4e9-4c6e-bebb-60a1a9dcf9b8</td>\n",
       "    </tr>\n",
       "    <tr>\n",
       "      <th>1</th>\n",
       "      <td>1</td>\n",
       "      <td>Guy</td>\n",
       "      <td>Allen</td>\n",
       "      <td>1940-12-01</td>\n",
       "      <td>Fox Ltd</td>\n",
       "      <td>rhodesclifford@henderson.com</td>\n",
       "      <td>Studio 22a\\nLynne terrace\\nMcCarthymouth\\nTF0 9GH</td>\n",
       "      <td>United Kingdom</td>\n",
       "      <td>GB</td>\n",
       "      <td>(0161) 496 0674</td>\n",
       "      <td>2001-12-20</td>\n",
       "      <td>8fe96c3a-d62d-4eb5-b313-cf12d9126a49</td>\n",
       "    </tr>\n",
       "    <tr>\n",
       "      <th>2</th>\n",
       "      <td>2</td>\n",
       "      <td>Harry</td>\n",
       "      <td>Lawrence</td>\n",
       "      <td>1995-08-02</td>\n",
       "      <td>Johnson, Jones and Harris</td>\n",
       "      <td>glen98@bryant-marshall.co.uk</td>\n",
       "      <td>92 Ann drive\\nJoanborough\\nSK0 6LR</td>\n",
       "      <td>United Kingdom</td>\n",
       "      <td>GB</td>\n",
       "      <td>+44(0)121 4960340</td>\n",
       "      <td>2016-12-16</td>\n",
       "      <td>fc461df4-b919-48b2-909e-55c95a03fe6b</td>\n",
       "    </tr>\n",
       "    <tr>\n",
       "      <th>3</th>\n",
       "      <td>3</td>\n",
       "      <td>Darren</td>\n",
       "      <td>Hussain</td>\n",
       "      <td>1972-09-23</td>\n",
       "      <td>Wheeler LLC</td>\n",
       "      <td>daniellebryan@thompson.org</td>\n",
       "      <td>19 Robinson meadow\\nNew Tracy\\nW22 2QG</td>\n",
       "      <td>United Kingdom</td>\n",
       "      <td>GB</td>\n",
       "      <td>(0306) 999 0871</td>\n",
       "      <td>2004-02-23</td>\n",
       "      <td>6104719f-ef14-4b09-bf04-fb0c4620acb0</td>\n",
       "    </tr>\n",
       "    <tr>\n",
       "      <th>4</th>\n",
       "      <td>4</td>\n",
       "      <td>Garry</td>\n",
       "      <td>Stone</td>\n",
       "      <td>1952-12-20</td>\n",
       "      <td>Warner Inc</td>\n",
       "      <td>billy14@long-warren.com</td>\n",
       "      <td>3 White pass\\nHunterborough\\nNN96 4UE</td>\n",
       "      <td>United Kingdom</td>\n",
       "      <td>GB</td>\n",
       "      <td>0121 496 0225</td>\n",
       "      <td>2006-09-01</td>\n",
       "      <td>9523a6d3-b2dd-4670-a51a-36aebc89f579</td>\n",
       "    </tr>\n",
       "  </tbody>\n",
       "</table>\n",
       "</div>"
      ],
      "text/plain": [
       "   index first_name last_name date_of_birth                    company                 email_address                                            address         country country_code       phone_number   join_date                             user_uuid\n",
       "0      0   Sigfried     Noack    1990-09-30         Heydrich Junitz KG             rudi79@winkler.de                       Zimmerstr. 1/0\\n59015 Gießen         Germany           DE   +49(0) 047905356  2018-10-10  93caf182-e4e9-4c6e-bebb-60a1a9dcf9b8\n",
       "1      1        Guy     Allen    1940-12-01                    Fox Ltd  rhodesclifford@henderson.com  Studio 22a\\nLynne terrace\\nMcCarthymouth\\nTF0 9GH  United Kingdom           GB    (0161) 496 0674  2001-12-20  8fe96c3a-d62d-4eb5-b313-cf12d9126a49\n",
       "2      2      Harry  Lawrence    1995-08-02  Johnson, Jones and Harris  glen98@bryant-marshall.co.uk                 92 Ann drive\\nJoanborough\\nSK0 6LR  United Kingdom           GB  +44(0)121 4960340  2016-12-16  fc461df4-b919-48b2-909e-55c95a03fe6b\n",
       "3      3     Darren   Hussain    1972-09-23                Wheeler LLC    daniellebryan@thompson.org             19 Robinson meadow\\nNew Tracy\\nW22 2QG  United Kingdom           GB    (0306) 999 0871  2004-02-23  6104719f-ef14-4b09-bf04-fb0c4620acb0\n",
       "4      4      Garry     Stone    1952-12-20                 Warner Inc       billy14@long-warren.com              3 White pass\\nHunterborough\\nNN96 4UE  United Kingdom           GB      0121 496 0225  2006-09-01  9523a6d3-b2dd-4670-a51a-36aebc89f579"
      ]
     },
     "execution_count": 6,
     "metadata": {},
     "output_type": "execute_result"
    }
   ],
   "source": [
    "userdf.head()"
   ]
  },
  {
   "cell_type": "code",
   "execution_count": 7,
   "metadata": {},
   "outputs": [],
   "source": [
    "### replace 'GGB' with 'GB'\n",
    "userdf['country_code'] = userdf['country_code'].replace('GGB','GB')"
   ]
  },
  {
   "attachments": {},
   "cell_type": "markdown",
   "metadata": {},
   "source": [
    "##### getting the df only with 'GB', 'US', AND 'DE' country codes"
   ]
  },
  {
   "cell_type": "code",
   "execution_count": 8,
   "metadata": {},
   "outputs": [],
   "source": [
    "mask = (userdf.country_code=='GB') | (userdf.country_code=='DE') | (userdf.country_code=='US') "
   ]
  },
  {
   "cell_type": "code",
   "execution_count": 9,
   "metadata": {},
   "outputs": [],
   "source": [
    "new = userdf[mask]"
   ]
  },
  {
   "cell_type": "code",
   "execution_count": 10,
   "metadata": {},
   "outputs": [
    {
     "data": {
      "text/plain": [
       "GB    9371\n",
       "DE    4708\n",
       "US    1205\n",
       "Name: country_code, dtype: int64"
      ]
     },
     "execution_count": 10,
     "metadata": {},
     "output_type": "execute_result"
    }
   ],
   "source": [
    "new['country_code'].value_counts()"
   ]
  },
  {
   "cell_type": "code",
   "execution_count": 11,
   "metadata": {},
   "outputs": [
    {
     "data": {
      "text/plain": [
       "United Kingdom    9371\n",
       "Germany           4708\n",
       "United States     1205\n",
       "Name: country, dtype: int64"
      ]
     },
     "execution_count": 11,
     "metadata": {},
     "output_type": "execute_result"
    }
   ],
   "source": [
    "new['country'].value_counts()"
   ]
  },
  {
   "cell_type": "code",
   "execution_count": 12,
   "metadata": {},
   "outputs": [
    {
     "name": "stderr",
     "output_type": "stream",
     "text": [
      "C:\\Users\\joyet\\AppData\\Local\\Temp\\ipykernel_7860\\757174121.py:1: SettingWithCopyWarning: \n",
      "A value is trying to be set on a copy of a slice from a DataFrame\n",
      "\n",
      "See the caveats in the documentation: https://pandas.pydata.org/pandas-docs/stable/user_guide/indexing.html#returning-a-view-versus-a-copy\n",
      "  new.sort_values(by=['index'], inplace=True)\n"
     ]
    }
   ],
   "source": [
    "new.sort_values(by=['index'], inplace=True)"
   ]
  },
  {
   "attachments": {},
   "cell_type": "markdown",
   "metadata": {},
   "source": [
    "##### standardizing phone number"
   ]
  },
  {
   "cell_type": "code",
   "execution_count": 13,
   "metadata": {},
   "outputs": [
    {
     "name": "stderr",
     "output_type": "stream",
     "text": [
      "C:\\Users\\joyet\\AppData\\Local\\Temp\\ipykernel_7860\\2960374634.py:1: SettingWithCopyWarning: \n",
      "A value is trying to be set on a copy of a slice from a DataFrame.\n",
      "Try using .loc[row_indexer,col_indexer] = value instead\n",
      "\n",
      "See the caveats in the documentation: https://pandas.pydata.org/pandas-docs/stable/user_guide/indexing.html#returning-a-view-versus-a-copy\n",
      "  new['phone_number'] = new['phone_number'].astype('string')\n"
     ]
    }
   ],
   "source": [
    "new['phone_number'] = new['phone_number'].astype('string')"
   ]
  },
  {
   "cell_type": "code",
   "execution_count": 14,
   "metadata": {},
   "outputs": [
    {
     "name": "stderr",
     "output_type": "stream",
     "text": [
      "C:\\Users\\joyet\\AppData\\Local\\Temp\\ipykernel_7860\\3201819053.py:1: SettingWithCopyWarning: \n",
      "A value is trying to be set on a copy of a slice from a DataFrame.\n",
      "Try using .loc[row_indexer,col_indexer] = value instead\n",
      "\n",
      "See the caveats in the documentation: https://pandas.pydata.org/pandas-docs/stable/user_guide/indexing.html#returning-a-view-versus-a-copy\n",
      "  new['phone_number'] = new['phone_number'].str.replace(' ', '')\n"
     ]
    }
   ],
   "source": [
    "new['phone_number'] = new['phone_number'].str.replace(' ', '')"
   ]
  },
  {
   "cell_type": "code",
   "execution_count": 15,
   "metadata": {},
   "outputs": [
    {
     "name": "stderr",
     "output_type": "stream",
     "text": [
      "C:\\Users\\joyet\\AppData\\Local\\Temp\\ipykernel_7860\\3767570384.py:1: SettingWithCopyWarning: \n",
      "A value is trying to be set on a copy of a slice from a DataFrame.\n",
      "Try using .loc[row_indexer,col_indexer] = value instead\n",
      "\n",
      "See the caveats in the documentation: https://pandas.pydata.org/pandas-docs/stable/user_guide/indexing.html#returning-a-view-versus-a-copy\n",
      "  new['phone_number'] = new['phone_number'].replace('\\(', '')\n"
     ]
    }
   ],
   "source": [
    "new['phone_number'] = new['phone_number'].replace('\\(', '')"
   ]
  },
  {
   "cell_type": "code",
   "execution_count": 16,
   "metadata": {},
   "outputs": [
    {
     "name": "stderr",
     "output_type": "stream",
     "text": [
      "C:\\Users\\joyet\\AppData\\Local\\Temp\\ipykernel_7860\\80734230.py:1: SettingWithCopyWarning: \n",
      "A value is trying to be set on a copy of a slice from a DataFrame.\n",
      "Try using .loc[row_indexer,col_indexer] = value instead\n",
      "\n",
      "See the caveats in the documentation: https://pandas.pydata.org/pandas-docs/stable/user_guide/indexing.html#returning-a-view-versus-a-copy\n",
      "  new['phone_number'] = new['phone_number'].str.replace('x', ' ext. ')\n"
     ]
    }
   ],
   "source": [
    "new['phone_number'] = new['phone_number'].str.replace('x', ' ext. ')"
   ]
  },
  {
   "cell_type": "code",
   "execution_count": 17,
   "metadata": {},
   "outputs": [
    {
     "name": "stderr",
     "output_type": "stream",
     "text": [
      "C:\\Users\\joyet\\AppData\\Local\\Temp\\ipykernel_7860\\4193027365.py:1: FutureWarning: The default value of regex will change from True to False in a future version.\n",
      "  new['phone_number'] = new['phone_number'].str.replace('\\(', '')\n",
      "C:\\Users\\joyet\\AppData\\Local\\Temp\\ipykernel_7860\\4193027365.py:1: SettingWithCopyWarning: \n",
      "A value is trying to be set on a copy of a slice from a DataFrame.\n",
      "Try using .loc[row_indexer,col_indexer] = value instead\n",
      "\n",
      "See the caveats in the documentation: https://pandas.pydata.org/pandas-docs/stable/user_guide/indexing.html#returning-a-view-versus-a-copy\n",
      "  new['phone_number'] = new['phone_number'].str.replace('\\(', '')\n"
     ]
    }
   ],
   "source": [
    "new['phone_number'] = new['phone_number'].str.replace('\\(', '')"
   ]
  },
  {
   "cell_type": "code",
   "execution_count": 18,
   "metadata": {},
   "outputs": [
    {
     "name": "stderr",
     "output_type": "stream",
     "text": [
      "C:\\Users\\joyet\\AppData\\Local\\Temp\\ipykernel_7860\\1239208695.py:1: FutureWarning: The default value of regex will change from True to False in a future version.\n",
      "  new['phone_number'] = new['phone_number'].str.replace('\\)', '')\n",
      "C:\\Users\\joyet\\AppData\\Local\\Temp\\ipykernel_7860\\1239208695.py:1: SettingWithCopyWarning: \n",
      "A value is trying to be set on a copy of a slice from a DataFrame.\n",
      "Try using .loc[row_indexer,col_indexer] = value instead\n",
      "\n",
      "See the caveats in the documentation: https://pandas.pydata.org/pandas-docs/stable/user_guide/indexing.html#returning-a-view-versus-a-copy\n",
      "  new['phone_number'] = new['phone_number'].str.replace('\\)', '')\n"
     ]
    }
   ],
   "source": [
    "new['phone_number'] = new['phone_number'].str.replace('\\)', '')"
   ]
  },
  {
   "cell_type": "code",
   "execution_count": 19,
   "metadata": {},
   "outputs": [
    {
     "name": "stderr",
     "output_type": "stream",
     "text": [
      "C:\\Users\\joyet\\AppData\\Local\\Temp\\ipykernel_7860\\1840428451.py:1: FutureWarning: The default value of regex will change from True to False in a future version. In addition, single character regular expressions will *not* be treated as literal strings when regex=True.\n",
      "  new['phone_number'] = new['phone_number'].str.replace('+', '00')\n",
      "C:\\Users\\joyet\\AppData\\Local\\Temp\\ipykernel_7860\\1840428451.py:1: SettingWithCopyWarning: \n",
      "A value is trying to be set on a copy of a slice from a DataFrame.\n",
      "Try using .loc[row_indexer,col_indexer] = value instead\n",
      "\n",
      "See the caveats in the documentation: https://pandas.pydata.org/pandas-docs/stable/user_guide/indexing.html#returning-a-view-versus-a-copy\n",
      "  new['phone_number'] = new['phone_number'].str.replace('+', '00')\n"
     ]
    }
   ],
   "source": [
    "new['phone_number'] = new['phone_number'].str.replace('+', '00')"
   ]
  },
  {
   "cell_type": "code",
   "execution_count": 20,
   "metadata": {},
   "outputs": [
    {
     "name": "stderr",
     "output_type": "stream",
     "text": [
      "C:\\Users\\joyet\\AppData\\Local\\Temp\\ipykernel_7860\\4111010685.py:1: FutureWarning: The default value of regex will change from True to False in a future version. In addition, single character regular expressions will *not* be treated as literal strings when regex=True.\n",
      "  new['phone_number'] = new['phone_number'].str.replace('.', '')\n",
      "C:\\Users\\joyet\\AppData\\Local\\Temp\\ipykernel_7860\\4111010685.py:1: SettingWithCopyWarning: \n",
      "A value is trying to be set on a copy of a slice from a DataFrame.\n",
      "Try using .loc[row_indexer,col_indexer] = value instead\n",
      "\n",
      "See the caveats in the documentation: https://pandas.pydata.org/pandas-docs/stable/user_guide/indexing.html#returning-a-view-versus-a-copy\n",
      "  new['phone_number'] = new['phone_number'].str.replace('.', '')\n"
     ]
    }
   ],
   "source": [
    "new['phone_number'] = new['phone_number'].str.replace('.', '')"
   ]
  },
  {
   "cell_type": "code",
   "execution_count": 21,
   "metadata": {},
   "outputs": [
    {
     "name": "stderr",
     "output_type": "stream",
     "text": [
      "C:\\Users\\joyet\\AppData\\Local\\Temp\\ipykernel_7860\\2936985468.py:1: SettingWithCopyWarning: \n",
      "A value is trying to be set on a copy of a slice from a DataFrame.\n",
      "Try using .loc[row_indexer,col_indexer] = value instead\n",
      "\n",
      "See the caveats in the documentation: https://pandas.pydata.org/pandas-docs/stable/user_guide/indexing.html#returning-a-view-versus-a-copy\n",
      "  new['phone_number'] = new['phone_number'].str.replace('-', '')\n"
     ]
    }
   ],
   "source": [
    "new['phone_number'] = new['phone_number'].str.replace('-', '')"
   ]
  },
  {
   "attachments": {},
   "cell_type": "markdown",
   "metadata": {},
   "source": [
    "##### address column"
   ]
  },
  {
   "cell_type": "code",
   "execution_count": 33,
   "metadata": {},
   "outputs": [
    {
     "name": "stderr",
     "output_type": "stream",
     "text": [
      "C:\\Users\\joyet\\AppData\\Local\\Temp\\ipykernel_7860\\606620282.py:1: SettingWithCopyWarning: \n",
      "A value is trying to be set on a copy of a slice from a DataFrame.\n",
      "Try using .loc[row_indexer,col_indexer] = value instead\n",
      "\n",
      "See the caveats in the documentation: https://pandas.pydata.org/pandas-docs/stable/user_guide/indexing.html#returning-a-view-versus-a-copy\n",
      "  new['address'] = new['address'].astype('string')\n"
     ]
    }
   ],
   "source": [
    "new['address'] = new['address'].astype('string')"
   ]
  },
  {
   "cell_type": "code",
   "execution_count": 35,
   "metadata": {},
   "outputs": [
    {
     "name": "stderr",
     "output_type": "stream",
     "text": [
      "C:\\Users\\joyet\\AppData\\Local\\Temp\\ipykernel_7860\\1009431804.py:1: SettingWithCopyWarning: \n",
      "A value is trying to be set on a copy of a slice from a DataFrame.\n",
      "Try using .loc[row_indexer,col_indexer] = value instead\n",
      "\n",
      "See the caveats in the documentation: https://pandas.pydata.org/pandas-docs/stable/user_guide/indexing.html#returning-a-view-versus-a-copy\n",
      "  new['address'] = new['address'].str.replace('\\n', ' ')\n"
     ]
    }
   ],
   "source": [
    "new['address'] = new['address'].str.replace('\\n', ' ')"
   ]
  },
  {
   "cell_type": "code",
   "execution_count": 37,
   "metadata": {},
   "outputs": [
    {
     "name": "stderr",
     "output_type": "stream",
     "text": [
      "C:\\Users\\joyet\\AppData\\Local\\Temp\\ipykernel_7860\\500798970.py:1: SettingWithCopyWarning: \n",
      "A value is trying to be set on a copy of a slice from a DataFrame.\n",
      "Try using .loc[row_indexer,col_indexer] = value instead\n",
      "\n",
      "See the caveats in the documentation: https://pandas.pydata.org/pandas-docs/stable/user_guide/indexing.html#returning-a-view-versus-a-copy\n",
      "  new['address'] = new['address'].str.replace('/', '')\n"
     ]
    }
   ],
   "source": [
    "new['address'] = new['address'].str.replace('/', '')"
   ]
  },
  {
   "attachments": {},
   "cell_type": "markdown",
   "metadata": {},
   "source": [
    "##### datetime"
   ]
  },
  {
   "cell_type": "code",
   "execution_count": 44,
   "metadata": {},
   "outputs": [
    {
     "data": {
      "text/html": [
       "<div>\n",
       "<style scoped>\n",
       "    .dataframe tbody tr th:only-of-type {\n",
       "        vertical-align: middle;\n",
       "    }\n",
       "\n",
       "    .dataframe tbody tr th {\n",
       "        vertical-align: top;\n",
       "    }\n",
       "\n",
       "    .dataframe thead th {\n",
       "        text-align: right;\n",
       "    }\n",
       "</style>\n",
       "<table border=\"1\" class=\"dataframe\">\n",
       "  <thead>\n",
       "    <tr style=\"text-align: right;\">\n",
       "      <th></th>\n",
       "      <th>index</th>\n",
       "      <th>first_name</th>\n",
       "      <th>last_name</th>\n",
       "      <th>date_of_birth</th>\n",
       "      <th>company</th>\n",
       "      <th>email_address</th>\n",
       "      <th>address</th>\n",
       "      <th>country</th>\n",
       "      <th>country_code</th>\n",
       "      <th>phone_number</th>\n",
       "      <th>join_date</th>\n",
       "      <th>user_uuid</th>\n",
       "    </tr>\n",
       "  </thead>\n",
       "  <tbody>\n",
       "    <tr>\n",
       "      <th>0</th>\n",
       "      <td>0</td>\n",
       "      <td>Sigfried</td>\n",
       "      <td>Noack</td>\n",
       "      <td>1990-09-30</td>\n",
       "      <td>Heydrich Junitz KG</td>\n",
       "      <td>rudi79@winkler.de</td>\n",
       "      <td>Zimmerstr. 10 59015 Gießen</td>\n",
       "      <td>Germany</td>\n",
       "      <td>DE</td>\n",
       "      <td>00490047905356</td>\n",
       "      <td>2018-10-10</td>\n",
       "      <td>93caf182-e4e9-4c6e-bebb-60a1a9dcf9b8</td>\n",
       "    </tr>\n",
       "    <tr>\n",
       "      <th>1</th>\n",
       "      <td>1</td>\n",
       "      <td>Guy</td>\n",
       "      <td>Allen</td>\n",
       "      <td>1940-12-01</td>\n",
       "      <td>Fox Ltd</td>\n",
       "      <td>rhodesclifford@henderson.com</td>\n",
       "      <td>Studio 22a Lynne terrace McCarthymouth TF0 9GH</td>\n",
       "      <td>United Kingdom</td>\n",
       "      <td>GB</td>\n",
       "      <td>01614960674</td>\n",
       "      <td>2001-12-20</td>\n",
       "      <td>8fe96c3a-d62d-4eb5-b313-cf12d9126a49</td>\n",
       "    </tr>\n",
       "    <tr>\n",
       "      <th>2</th>\n",
       "      <td>2</td>\n",
       "      <td>Harry</td>\n",
       "      <td>Lawrence</td>\n",
       "      <td>1995-08-02</td>\n",
       "      <td>Johnson, Jones and Harris</td>\n",
       "      <td>glen98@bryant-marshall.co.uk</td>\n",
       "      <td>92 Ann drive Joanborough SK0 6LR</td>\n",
       "      <td>United Kingdom</td>\n",
       "      <td>GB</td>\n",
       "      <td>004401214960340</td>\n",
       "      <td>2016-12-16</td>\n",
       "      <td>fc461df4-b919-48b2-909e-55c95a03fe6b</td>\n",
       "    </tr>\n",
       "    <tr>\n",
       "      <th>3</th>\n",
       "      <td>3</td>\n",
       "      <td>Darren</td>\n",
       "      <td>Hussain</td>\n",
       "      <td>1972-09-23</td>\n",
       "      <td>Wheeler LLC</td>\n",
       "      <td>daniellebryan@thompson.org</td>\n",
       "      <td>19 Robinson meadow New Tracy W22 2QG</td>\n",
       "      <td>United Kingdom</td>\n",
       "      <td>GB</td>\n",
       "      <td>03069990871</td>\n",
       "      <td>2004-02-23</td>\n",
       "      <td>6104719f-ef14-4b09-bf04-fb0c4620acb0</td>\n",
       "    </tr>\n",
       "    <tr>\n",
       "      <th>4</th>\n",
       "      <td>4</td>\n",
       "      <td>Garry</td>\n",
       "      <td>Stone</td>\n",
       "      <td>1952-12-20</td>\n",
       "      <td>Warner Inc</td>\n",
       "      <td>billy14@long-warren.com</td>\n",
       "      <td>3 White pass Hunterborough NN96 4UE</td>\n",
       "      <td>United Kingdom</td>\n",
       "      <td>GB</td>\n",
       "      <td>01214960225</td>\n",
       "      <td>2006-09-01</td>\n",
       "      <td>9523a6d3-b2dd-4670-a51a-36aebc89f579</td>\n",
       "    </tr>\n",
       "    <tr>\n",
       "      <th>...</th>\n",
       "      <td>...</td>\n",
       "      <td>...</td>\n",
       "      <td>...</td>\n",
       "      <td>...</td>\n",
       "      <td>...</td>\n",
       "      <td>...</td>\n",
       "      <td>...</td>\n",
       "      <td>...</td>\n",
       "      <td>...</td>\n",
       "      <td>...</td>\n",
       "      <td>...</td>\n",
       "      <td>...</td>\n",
       "    </tr>\n",
       "    <tr>\n",
       "      <th>15284</th>\n",
       "      <td>15315</td>\n",
       "      <td>Marta</td>\n",
       "      <td>Rogge</td>\n",
       "      <td>1981-03-03</td>\n",
       "      <td>Dehmel</td>\n",
       "      <td>baererklothilde@trubin.com</td>\n",
       "      <td>Ziegertstr. 60 93330 Stollberg</td>\n",
       "      <td>Germany</td>\n",
       "      <td>DE</td>\n",
       "      <td>05917549662</td>\n",
       "      <td>2000-03-29</td>\n",
       "      <td>8a77629e-7ca1-409f-b22c-c24056bd4eb1</td>\n",
       "    </tr>\n",
       "    <tr>\n",
       "      <th>15285</th>\n",
       "      <td>15316</td>\n",
       "      <td>Erna</td>\n",
       "      <td>Hoffmann</td>\n",
       "      <td>1967-10-28</td>\n",
       "      <td>Atzler Seifert AG &amp; Co. KGaA</td>\n",
       "      <td>dunjafischer@vollbrecht.de</td>\n",
       "      <td>Henkallee 186 33456 Sankt Goarshausen</td>\n",
       "      <td>Germany</td>\n",
       "      <td>DE</td>\n",
       "      <td>00490738451073</td>\n",
       "      <td>2018-03-13</td>\n",
       "      <td>5f57209e-8695-4863-b9e7-084a4ba02808</td>\n",
       "    </tr>\n",
       "    <tr>\n",
       "      <th>15286</th>\n",
       "      <td>15317</td>\n",
       "      <td>Konstantinos</td>\n",
       "      <td>Thanel</td>\n",
       "      <td>1954-08-05</td>\n",
       "      <td>Fritsch Ehlert GmbH</td>\n",
       "      <td>rpruschke@gotthard.com</td>\n",
       "      <td>Steffi-Rose-Platz 16 12365 Apolda</td>\n",
       "      <td>Germany</td>\n",
       "      <td>DE</td>\n",
       "      <td>07856050049</td>\n",
       "      <td>2007-07-21</td>\n",
       "      <td>6f16e0ce-9b07-4479-a151-7efdd35408aa</td>\n",
       "    </tr>\n",
       "    <tr>\n",
       "      <th>15287</th>\n",
       "      <td>15318</td>\n",
       "      <td>Caroline</td>\n",
       "      <td>Fisher</td>\n",
       "      <td>1975-09-27</td>\n",
       "      <td>Coleman Ltd</td>\n",
       "      <td>wardshaun@miah.org</td>\n",
       "      <td>826 Hollie park Khanberg M9J 1GP</td>\n",
       "      <td>United Kingdom</td>\n",
       "      <td>GB</td>\n",
       "      <td>01154960754</td>\n",
       "      <td>2016-11-26</td>\n",
       "      <td>1a202edd-20aa-4787-b3b3-622fc01a9d08</td>\n",
       "    </tr>\n",
       "    <tr>\n",
       "      <th>15288</th>\n",
       "      <td>15319</td>\n",
       "      <td>Terence</td>\n",
       "      <td>Newton</td>\n",
       "      <td>1946-10-22</td>\n",
       "      <td>Gardner-Williams</td>\n",
       "      <td>freynolds@martin.com</td>\n",
       "      <td>42 Williams terrace North Elizabethton W7 4JJ</td>\n",
       "      <td>United Kingdom</td>\n",
       "      <td>GB</td>\n",
       "      <td>01414960200</td>\n",
       "      <td>2004-06-13</td>\n",
       "      <td>39611895-c08e-4b4a-80cb-314b738066ca</td>\n",
       "    </tr>\n",
       "  </tbody>\n",
       "</table>\n",
       "<p>15284 rows × 12 columns</p>\n",
       "</div>"
      ],
      "text/plain": [
       "       index    first_name last_name date_of_birth                       company                 email_address                                         address         country country_code     phone_number   join_date                             user_uuid\n",
       "0          0      Sigfried     Noack    1990-09-30            Heydrich Junitz KG             rudi79@winkler.de                      Zimmerstr. 10 59015 Gießen         Germany           DE   00490047905356  2018-10-10  93caf182-e4e9-4c6e-bebb-60a1a9dcf9b8\n",
       "1          1           Guy     Allen    1940-12-01                       Fox Ltd  rhodesclifford@henderson.com  Studio 22a Lynne terrace McCarthymouth TF0 9GH  United Kingdom           GB      01614960674  2001-12-20  8fe96c3a-d62d-4eb5-b313-cf12d9126a49\n",
       "2          2         Harry  Lawrence    1995-08-02     Johnson, Jones and Harris  glen98@bryant-marshall.co.uk                92 Ann drive Joanborough SK0 6LR  United Kingdom           GB  004401214960340  2016-12-16  fc461df4-b919-48b2-909e-55c95a03fe6b\n",
       "3          3        Darren   Hussain    1972-09-23                   Wheeler LLC    daniellebryan@thompson.org            19 Robinson meadow New Tracy W22 2QG  United Kingdom           GB      03069990871  2004-02-23  6104719f-ef14-4b09-bf04-fb0c4620acb0\n",
       "4          4         Garry     Stone    1952-12-20                    Warner Inc       billy14@long-warren.com             3 White pass Hunterborough NN96 4UE  United Kingdom           GB      01214960225  2006-09-01  9523a6d3-b2dd-4670-a51a-36aebc89f579\n",
       "...      ...           ...       ...           ...                           ...                           ...                                             ...             ...          ...              ...         ...                                   ...\n",
       "15284  15315         Marta     Rogge    1981-03-03                        Dehmel    baererklothilde@trubin.com                  Ziegertstr. 60 93330 Stollberg         Germany           DE      05917549662  2000-03-29  8a77629e-7ca1-409f-b22c-c24056bd4eb1\n",
       "15285  15316          Erna  Hoffmann    1967-10-28  Atzler Seifert AG & Co. KGaA    dunjafischer@vollbrecht.de           Henkallee 186 33456 Sankt Goarshausen         Germany           DE   00490738451073  2018-03-13  5f57209e-8695-4863-b9e7-084a4ba02808\n",
       "15286  15317  Konstantinos    Thanel    1954-08-05           Fritsch Ehlert GmbH        rpruschke@gotthard.com               Steffi-Rose-Platz 16 12365 Apolda         Germany           DE      07856050049  2007-07-21  6f16e0ce-9b07-4479-a151-7efdd35408aa\n",
       "15287  15318      Caroline    Fisher    1975-09-27                   Coleman Ltd            wardshaun@miah.org                826 Hollie park Khanberg M9J 1GP  United Kingdom           GB      01154960754  2016-11-26  1a202edd-20aa-4787-b3b3-622fc01a9d08\n",
       "15288  15319       Terence    Newton    1946-10-22              Gardner-Williams          freynolds@martin.com   42 Williams terrace North Elizabethton W7 4JJ  United Kingdom           GB      01414960200  2004-06-13  39611895-c08e-4b4a-80cb-314b738066ca\n",
       "\n",
       "[15284 rows x 12 columns]"
      ]
     },
     "execution_count": 44,
     "metadata": {},
     "output_type": "execute_result"
    }
   ],
   "source": [
    "new"
   ]
  },
  {
   "cell_type": "code",
   "execution_count": 45,
   "metadata": {},
   "outputs": [
    {
     "name": "stderr",
     "output_type": "stream",
     "text": [
      "C:\\Users\\joyet\\AppData\\Local\\Temp\\ipykernel_7860\\2655029350.py:1: SettingWithCopyWarning: \n",
      "A value is trying to be set on a copy of a slice from a DataFrame.\n",
      "Try using .loc[row_indexer,col_indexer] = value instead\n",
      "\n",
      "See the caveats in the documentation: https://pandas.pydata.org/pandas-docs/stable/user_guide/indexing.html#returning-a-view-versus-a-copy\n",
      "  new['date_of_birth'] = pd.to_datetime(new['date_of_birth'], errors='coerce', infer_datetime_format=True)\n"
     ]
    }
   ],
   "source": [
    "new['date_of_birth'] = pd.to_datetime(new['date_of_birth'], errors='coerce', infer_datetime_format=True)"
   ]
  },
  {
   "cell_type": "code",
   "execution_count": 46,
   "metadata": {},
   "outputs": [
    {
     "data": {
      "text/plain": [
       "0       1990-09-30\n",
       "1       1940-12-01\n",
       "2       1995-08-02\n",
       "3       1972-09-23\n",
       "4       1952-12-20\n",
       "           ...    \n",
       "15284   1981-03-03\n",
       "15285   1967-10-28\n",
       "15286   1954-08-05\n",
       "15287   1975-09-27\n",
       "15288   1946-10-22\n",
       "Name: date_of_birth, Length: 15284, dtype: datetime64[ns]"
      ]
     },
     "execution_count": 46,
     "metadata": {},
     "output_type": "execute_result"
    }
   ],
   "source": [
    "new['date_of_birth']"
   ]
  },
  {
   "cell_type": "code",
   "execution_count": 47,
   "metadata": {},
   "outputs": [
    {
     "name": "stderr",
     "output_type": "stream",
     "text": [
      "C:\\Users\\joyet\\AppData\\Local\\Temp\\ipykernel_7860\\2257402556.py:1: SettingWithCopyWarning: \n",
      "A value is trying to be set on a copy of a slice from a DataFrame.\n",
      "Try using .loc[row_indexer,col_indexer] = value instead\n",
      "\n",
      "See the caveats in the documentation: https://pandas.pydata.org/pandas-docs/stable/user_guide/indexing.html#returning-a-view-versus-a-copy\n",
      "  new['join_date'] = pd.to_datetime(new['join_date'], errors='coerce', infer_datetime_format=True)\n"
     ]
    }
   ],
   "source": [
    "new['join_date'] = pd.to_datetime(new['join_date'], errors='coerce', infer_datetime_format=True)"
   ]
  },
  {
   "cell_type": "code",
   "execution_count": 48,
   "metadata": {},
   "outputs": [
    {
     "data": {
      "text/plain": [
       "0       2018-10-10\n",
       "1       2001-12-20\n",
       "2       2016-12-16\n",
       "3       2004-02-23\n",
       "4       2006-09-01\n",
       "           ...    \n",
       "15284   2000-03-29\n",
       "15285   2018-03-13\n",
       "15286   2007-07-21\n",
       "15287   2016-11-26\n",
       "15288   2004-06-13\n",
       "Name: join_date, Length: 15284, dtype: datetime64[ns]"
      ]
     },
     "execution_count": 48,
     "metadata": {},
     "output_type": "execute_result"
    }
   ],
   "source": [
    "new['join_date']"
   ]
  },
  {
   "cell_type": "markdown",
   "metadata": {},
   "source": []
  },
  {
   "cell_type": "code",
   "execution_count": 49,
   "metadata": {},
   "outputs": [
    {
     "data": {
      "text/html": [
       "<div>\n",
       "<style scoped>\n",
       "    .dataframe tbody tr th:only-of-type {\n",
       "        vertical-align: middle;\n",
       "    }\n",
       "\n",
       "    .dataframe tbody tr th {\n",
       "        vertical-align: top;\n",
       "    }\n",
       "\n",
       "    .dataframe thead th {\n",
       "        text-align: right;\n",
       "    }\n",
       "</style>\n",
       "<table border=\"1\" class=\"dataframe\">\n",
       "  <thead>\n",
       "    <tr style=\"text-align: right;\">\n",
       "      <th></th>\n",
       "      <th>Unnamed: 0</th>\n",
       "      <th>index</th>\n",
       "      <th>first_name</th>\n",
       "      <th>last_name</th>\n",
       "      <th>date_of_birth</th>\n",
       "      <th>company</th>\n",
       "      <th>email_address</th>\n",
       "      <th>address</th>\n",
       "      <th>country</th>\n",
       "      <th>country_code</th>\n",
       "      <th>phone_number</th>\n",
       "      <th>join_date</th>\n",
       "      <th>user_uuid</th>\n",
       "    </tr>\n",
       "  </thead>\n",
       "  <tbody>\n",
       "    <tr>\n",
       "      <th>0</th>\n",
       "      <td>0</td>\n",
       "      <td>0</td>\n",
       "      <td>Sigfried</td>\n",
       "      <td>Noack</td>\n",
       "      <td>1990-09-30</td>\n",
       "      <td>Heydrich Junitz KG</td>\n",
       "      <td>rudi79@winkler.de</td>\n",
       "      <td>Zimmerstr. 1/0\\n59015 Gießen</td>\n",
       "      <td>Germany</td>\n",
       "      <td>DE</td>\n",
       "      <td>+49(0) 047905356</td>\n",
       "      <td>2018-10-10</td>\n",
       "      <td>93caf182-e4e9-4c6e-bebb-60a1a9dcf9b8</td>\n",
       "    </tr>\n",
       "    <tr>\n",
       "      <th>1</th>\n",
       "      <td>1</td>\n",
       "      <td>1</td>\n",
       "      <td>Guy</td>\n",
       "      <td>Allen</td>\n",
       "      <td>1940-12-01</td>\n",
       "      <td>Fox Ltd</td>\n",
       "      <td>rhodesclifford@henderson.com</td>\n",
       "      <td>Studio 22a\\nLynne terrace\\nMcCarthymouth\\nTF0 9GH</td>\n",
       "      <td>United Kingdom</td>\n",
       "      <td>GB</td>\n",
       "      <td>(0161) 496 0674</td>\n",
       "      <td>2001-12-20</td>\n",
       "      <td>8fe96c3a-d62d-4eb5-b313-cf12d9126a49</td>\n",
       "    </tr>\n",
       "    <tr>\n",
       "      <th>2</th>\n",
       "      <td>2</td>\n",
       "      <td>2</td>\n",
       "      <td>Harry</td>\n",
       "      <td>Lawrence</td>\n",
       "      <td>1995-08-02</td>\n",
       "      <td>Johnson, Jones and Harris</td>\n",
       "      <td>glen98@bryant-marshall.co.uk</td>\n",
       "      <td>92 Ann drive\\nJoanborough\\nSK0 6LR</td>\n",
       "      <td>United Kingdom</td>\n",
       "      <td>GB</td>\n",
       "      <td>+44(0)121 4960340</td>\n",
       "      <td>2016-12-16</td>\n",
       "      <td>fc461df4-b919-48b2-909e-55c95a03fe6b</td>\n",
       "    </tr>\n",
       "    <tr>\n",
       "      <th>3</th>\n",
       "      <td>3</td>\n",
       "      <td>3</td>\n",
       "      <td>Darren</td>\n",
       "      <td>Hussain</td>\n",
       "      <td>1972-09-23</td>\n",
       "      <td>Wheeler LLC</td>\n",
       "      <td>daniellebryan@thompson.org</td>\n",
       "      <td>19 Robinson meadow\\nNew Tracy\\nW22 2QG</td>\n",
       "      <td>United Kingdom</td>\n",
       "      <td>GB</td>\n",
       "      <td>(0306) 999 0871</td>\n",
       "      <td>2004-02-23</td>\n",
       "      <td>6104719f-ef14-4b09-bf04-fb0c4620acb0</td>\n",
       "    </tr>\n",
       "    <tr>\n",
       "      <th>4</th>\n",
       "      <td>4</td>\n",
       "      <td>4</td>\n",
       "      <td>Garry</td>\n",
       "      <td>Stone</td>\n",
       "      <td>1952-12-20</td>\n",
       "      <td>Warner Inc</td>\n",
       "      <td>billy14@long-warren.com</td>\n",
       "      <td>3 White pass\\nHunterborough\\nNN96 4UE</td>\n",
       "      <td>United Kingdom</td>\n",
       "      <td>GB</td>\n",
       "      <td>0121 496 0225</td>\n",
       "      <td>2006-09-01</td>\n",
       "      <td>9523a6d3-b2dd-4670-a51a-36aebc89f579</td>\n",
       "    </tr>\n",
       "    <tr>\n",
       "      <th>...</th>\n",
       "      <td>...</td>\n",
       "      <td>...</td>\n",
       "      <td>...</td>\n",
       "      <td>...</td>\n",
       "      <td>...</td>\n",
       "      <td>...</td>\n",
       "      <td>...</td>\n",
       "      <td>...</td>\n",
       "      <td>...</td>\n",
       "      <td>...</td>\n",
       "      <td>...</td>\n",
       "      <td>...</td>\n",
       "      <td>...</td>\n",
       "    </tr>\n",
       "    <tr>\n",
       "      <th>15315</th>\n",
       "      <td>15315</td>\n",
       "      <td>14913</td>\n",
       "      <td>Stephen</td>\n",
       "      <td>Jenkins</td>\n",
       "      <td>1943-08-09</td>\n",
       "      <td>Thornton, Carroll and Newman</td>\n",
       "      <td>s.jenkins@smith.com</td>\n",
       "      <td>Studio 41I\\nJones lodge\\nOliviaborough\\nE8 3DU</td>\n",
       "      <td>United Kingdom</td>\n",
       "      <td>GB</td>\n",
       "      <td>+44(0)292018946</td>\n",
       "      <td>2016-04-15</td>\n",
       "      <td>2bd3a12f-a92d-4cdd-b99c-fc70572db302</td>\n",
       "    </tr>\n",
       "    <tr>\n",
       "      <th>15316</th>\n",
       "      <td>15316</td>\n",
       "      <td>14994</td>\n",
       "      <td>Stephen</td>\n",
       "      <td>Smith</td>\n",
       "      <td>1948-08-20</td>\n",
       "      <td>Robinson-Harris</td>\n",
       "      <td>s.smith@smith.com</td>\n",
       "      <td>530 Young parkway\\nMillsfurt\\nL4G 7NX</td>\n",
       "      <td>United Kingdom</td>\n",
       "      <td>GB</td>\n",
       "      <td>+44(0)1144960977</td>\n",
       "      <td>2020-07-20</td>\n",
       "      <td>d234c04b-c07c-46a5-a902-526f91478ecc</td>\n",
       "    </tr>\n",
       "    <tr>\n",
       "      <th>15317</th>\n",
       "      <td>15317</td>\n",
       "      <td>15012</td>\n",
       "      <td>Stephen</td>\n",
       "      <td>Losekann</td>\n",
       "      <td>1940-10-09</td>\n",
       "      <td>Rosenow</td>\n",
       "      <td>s.losekann@smith.com</td>\n",
       "      <td>Viviane-Fritsch-Straße 3/5\\n15064 Bad Liebenwerda</td>\n",
       "      <td>Germany</td>\n",
       "      <td>DE</td>\n",
       "      <td>02984 08192</td>\n",
       "      <td>2021-03-07</td>\n",
       "      <td>1a0a8b7b-7c17-42d8-a946-8a85d5495651</td>\n",
       "    </tr>\n",
       "    <tr>\n",
       "      <th>15318</th>\n",
       "      <td>15318</td>\n",
       "      <td>15269</td>\n",
       "      <td>Stephen</td>\n",
       "      <td>Rivera</td>\n",
       "      <td>1952-06-04</td>\n",
       "      <td>Taylor, Fry and Jones</td>\n",
       "      <td>s.rivera@smith.com</td>\n",
       "      <td>660 Ross Falls Suite 357\\nAnthonymouth, MA 09610</td>\n",
       "      <td>United States</td>\n",
       "      <td>US</td>\n",
       "      <td>239.711.3836</td>\n",
       "      <td>2011-01-03</td>\n",
       "      <td>187fe06e-bd5f-4381-af2f-d7ac37ca7572</td>\n",
       "    </tr>\n",
       "    <tr>\n",
       "      <th>15319</th>\n",
       "      <td>15319</td>\n",
       "      <td>1249</td>\n",
       "      <td>Stephen</td>\n",
       "      <td>Duncan</td>\n",
       "      <td>1994-03-27</td>\n",
       "      <td>Phillips, Brown and Powell</td>\n",
       "      <td>s.duncan@smith.com</td>\n",
       "      <td>Studio 4\\nHancock road\\nPhillipsview\\nST1X 3XB</td>\n",
       "      <td>United Kingdom</td>\n",
       "      <td>GB</td>\n",
       "      <td>+44(0)1314960870</td>\n",
       "      <td>2015-08-28</td>\n",
       "      <td>0589bbca-1d58-4b1f-9d0a-04ed4c57aaa1</td>\n",
       "    </tr>\n",
       "  </tbody>\n",
       "</table>\n",
       "<p>15320 rows × 13 columns</p>\n",
       "</div>"
      ],
      "text/plain": [
       "       Unnamed: 0  index first_name last_name date_of_birth                       company                 email_address                                            address         country country_code       phone_number   join_date                             user_uuid\n",
       "0               0      0   Sigfried     Noack    1990-09-30            Heydrich Junitz KG             rudi79@winkler.de                       Zimmerstr. 1/0\\n59015 Gießen         Germany           DE   +49(0) 047905356  2018-10-10  93caf182-e4e9-4c6e-bebb-60a1a9dcf9b8\n",
       "1               1      1        Guy     Allen    1940-12-01                       Fox Ltd  rhodesclifford@henderson.com  Studio 22a\\nLynne terrace\\nMcCarthymouth\\nTF0 9GH  United Kingdom           GB    (0161) 496 0674  2001-12-20  8fe96c3a-d62d-4eb5-b313-cf12d9126a49\n",
       "2               2      2      Harry  Lawrence    1995-08-02     Johnson, Jones and Harris  glen98@bryant-marshall.co.uk                 92 Ann drive\\nJoanborough\\nSK0 6LR  United Kingdom           GB  +44(0)121 4960340  2016-12-16  fc461df4-b919-48b2-909e-55c95a03fe6b\n",
       "3               3      3     Darren   Hussain    1972-09-23                   Wheeler LLC    daniellebryan@thompson.org             19 Robinson meadow\\nNew Tracy\\nW22 2QG  United Kingdom           GB    (0306) 999 0871  2004-02-23  6104719f-ef14-4b09-bf04-fb0c4620acb0\n",
       "4               4      4      Garry     Stone    1952-12-20                    Warner Inc       billy14@long-warren.com              3 White pass\\nHunterborough\\nNN96 4UE  United Kingdom           GB      0121 496 0225  2006-09-01  9523a6d3-b2dd-4670-a51a-36aebc89f579\n",
       "...           ...    ...        ...       ...           ...                           ...                           ...                                                ...             ...          ...                ...         ...                                   ...\n",
       "15315       15315  14913    Stephen   Jenkins    1943-08-09  Thornton, Carroll and Newman           s.jenkins@smith.com     Studio 41I\\nJones lodge\\nOliviaborough\\nE8 3DU  United Kingdom           GB    +44(0)292018946  2016-04-15  2bd3a12f-a92d-4cdd-b99c-fc70572db302\n",
       "15316       15316  14994    Stephen     Smith    1948-08-20               Robinson-Harris             s.smith@smith.com              530 Young parkway\\nMillsfurt\\nL4G 7NX  United Kingdom           GB   +44(0)1144960977  2020-07-20  d234c04b-c07c-46a5-a902-526f91478ecc\n",
       "15317       15317  15012    Stephen  Losekann    1940-10-09                       Rosenow          s.losekann@smith.com  Viviane-Fritsch-Straße 3/5\\n15064 Bad Liebenwerda         Germany           DE        02984 08192  2021-03-07  1a0a8b7b-7c17-42d8-a946-8a85d5495651\n",
       "15318       15318  15269    Stephen    Rivera    1952-06-04         Taylor, Fry and Jones            s.rivera@smith.com   660 Ross Falls Suite 357\\nAnthonymouth, MA 09610   United States           US       239.711.3836  2011-01-03  187fe06e-bd5f-4381-af2f-d7ac37ca7572\n",
       "15319       15319   1249    Stephen    Duncan    1994-03-27    Phillips, Brown and Powell            s.duncan@smith.com     Studio 4\\nHancock road\\nPhillipsview\\nST1X 3XB  United Kingdom           GB   +44(0)1314960870  2015-08-28  0589bbca-1d58-4b1f-9d0a-04ed4c57aaa1\n",
       "\n",
       "[15320 rows x 13 columns]"
      ]
     },
     "execution_count": 49,
     "metadata": {},
     "output_type": "execute_result"
    }
   ],
   "source": [
    "users"
   ]
  },
  {
   "attachments": {},
   "cell_type": "markdown",
   "metadata": {},
   "source": [
    "###### name standardising"
   ]
  },
  {
   "cell_type": "code",
   "execution_count": 57,
   "metadata": {},
   "outputs": [
    {
     "name": "stderr",
     "output_type": "stream",
     "text": [
      "C:\\Users\\joyet\\AppData\\Local\\Temp\\ipykernel_7860\\2508413282.py:1: SettingWithCopyWarning: \n",
      "A value is trying to be set on a copy of a slice from a DataFrame.\n",
      "Try using .loc[row_indexer,col_indexer] = value instead\n",
      "\n",
      "See the caveats in the documentation: https://pandas.pydata.org/pandas-docs/stable/user_guide/indexing.html#returning-a-view-versus-a-copy\n",
      "  new['last_name'] = new['last_name'].apply(lambda x: x.title())\n"
     ]
    }
   ],
   "source": [
    "new['last_name'] = new['last_name'].apply(lambda x: x.title())"
   ]
  },
  {
   "cell_type": "code",
   "execution_count": 60,
   "metadata": {},
   "outputs": [
    {
     "name": "stderr",
     "output_type": "stream",
     "text": [
      "C:\\Users\\joyet\\AppData\\Local\\Temp\\ipykernel_7860\\2649275113.py:1: SettingWithCopyWarning: \n",
      "A value is trying to be set on a copy of a slice from a DataFrame.\n",
      "Try using .loc[row_indexer,col_indexer] = value instead\n",
      "\n",
      "See the caveats in the documentation: https://pandas.pydata.org/pandas-docs/stable/user_guide/indexing.html#returning-a-view-versus-a-copy\n",
      "  new['last_name'] = new['last_name'].astype('string')\n"
     ]
    }
   ],
   "source": [
    "new['last_name'] = new['last_name'].astype('string')"
   ]
  },
  {
   "cell_type": "code",
   "execution_count": 61,
   "metadata": {},
   "outputs": [
    {
     "data": {
      "text/html": [
       "<div>\n",
       "<style scoped>\n",
       "    .dataframe tbody tr th:only-of-type {\n",
       "        vertical-align: middle;\n",
       "    }\n",
       "\n",
       "    .dataframe tbody tr th {\n",
       "        vertical-align: top;\n",
       "    }\n",
       "\n",
       "    .dataframe thead th {\n",
       "        text-align: right;\n",
       "    }\n",
       "</style>\n",
       "<table border=\"1\" class=\"dataframe\">\n",
       "  <thead>\n",
       "    <tr style=\"text-align: right;\">\n",
       "      <th></th>\n",
       "      <th>index</th>\n",
       "      <th>first_name</th>\n",
       "      <th>last_name</th>\n",
       "      <th>date_of_birth</th>\n",
       "      <th>company</th>\n",
       "      <th>email_address</th>\n",
       "      <th>address</th>\n",
       "      <th>country</th>\n",
       "      <th>country_code</th>\n",
       "      <th>phone_number</th>\n",
       "      <th>join_date</th>\n",
       "      <th>user_uuid</th>\n",
       "    </tr>\n",
       "  </thead>\n",
       "  <tbody>\n",
       "    <tr>\n",
       "      <th>0</th>\n",
       "      <td>0</td>\n",
       "      <td>Sigfried</td>\n",
       "      <td>Noack</td>\n",
       "      <td>1990-09-30</td>\n",
       "      <td>Heydrich Junitz KG</td>\n",
       "      <td>rudi79@winkler.de</td>\n",
       "      <td>Zimmerstr. 10 59015 Gießen</td>\n",
       "      <td>Germany</td>\n",
       "      <td>DE</td>\n",
       "      <td>00490047905356</td>\n",
       "      <td>2018-10-10</td>\n",
       "      <td>93caf182-e4e9-4c6e-bebb-60a1a9dcf9b8</td>\n",
       "    </tr>\n",
       "    <tr>\n",
       "      <th>1</th>\n",
       "      <td>1</td>\n",
       "      <td>Guy</td>\n",
       "      <td>Allen</td>\n",
       "      <td>1940-12-01</td>\n",
       "      <td>Fox Ltd</td>\n",
       "      <td>rhodesclifford@henderson.com</td>\n",
       "      <td>Studio 22a Lynne terrace McCarthymouth TF0 9GH</td>\n",
       "      <td>United Kingdom</td>\n",
       "      <td>GB</td>\n",
       "      <td>01614960674</td>\n",
       "      <td>2001-12-20</td>\n",
       "      <td>8fe96c3a-d62d-4eb5-b313-cf12d9126a49</td>\n",
       "    </tr>\n",
       "    <tr>\n",
       "      <th>2</th>\n",
       "      <td>2</td>\n",
       "      <td>Harry</td>\n",
       "      <td>Lawrence</td>\n",
       "      <td>1995-08-02</td>\n",
       "      <td>Johnson, Jones and Harris</td>\n",
       "      <td>glen98@bryant-marshall.co.uk</td>\n",
       "      <td>92 Ann drive Joanborough SK0 6LR</td>\n",
       "      <td>United Kingdom</td>\n",
       "      <td>GB</td>\n",
       "      <td>004401214960340</td>\n",
       "      <td>2016-12-16</td>\n",
       "      <td>fc461df4-b919-48b2-909e-55c95a03fe6b</td>\n",
       "    </tr>\n",
       "    <tr>\n",
       "      <th>3</th>\n",
       "      <td>3</td>\n",
       "      <td>Darren</td>\n",
       "      <td>Hussain</td>\n",
       "      <td>1972-09-23</td>\n",
       "      <td>Wheeler LLC</td>\n",
       "      <td>daniellebryan@thompson.org</td>\n",
       "      <td>19 Robinson meadow New Tracy W22 2QG</td>\n",
       "      <td>United Kingdom</td>\n",
       "      <td>GB</td>\n",
       "      <td>03069990871</td>\n",
       "      <td>2004-02-23</td>\n",
       "      <td>6104719f-ef14-4b09-bf04-fb0c4620acb0</td>\n",
       "    </tr>\n",
       "    <tr>\n",
       "      <th>4</th>\n",
       "      <td>4</td>\n",
       "      <td>Garry</td>\n",
       "      <td>Stone</td>\n",
       "      <td>1952-12-20</td>\n",
       "      <td>Warner Inc</td>\n",
       "      <td>billy14@long-warren.com</td>\n",
       "      <td>3 White pass Hunterborough NN96 4UE</td>\n",
       "      <td>United Kingdom</td>\n",
       "      <td>GB</td>\n",
       "      <td>01214960225</td>\n",
       "      <td>2006-09-01</td>\n",
       "      <td>9523a6d3-b2dd-4670-a51a-36aebc89f579</td>\n",
       "    </tr>\n",
       "    <tr>\n",
       "      <th>...</th>\n",
       "      <td>...</td>\n",
       "      <td>...</td>\n",
       "      <td>...</td>\n",
       "      <td>...</td>\n",
       "      <td>...</td>\n",
       "      <td>...</td>\n",
       "      <td>...</td>\n",
       "      <td>...</td>\n",
       "      <td>...</td>\n",
       "      <td>...</td>\n",
       "      <td>...</td>\n",
       "      <td>...</td>\n",
       "    </tr>\n",
       "    <tr>\n",
       "      <th>15284</th>\n",
       "      <td>15315</td>\n",
       "      <td>Marta</td>\n",
       "      <td>Rogge</td>\n",
       "      <td>1981-03-03</td>\n",
       "      <td>Dehmel</td>\n",
       "      <td>baererklothilde@trubin.com</td>\n",
       "      <td>Ziegertstr. 60 93330 Stollberg</td>\n",
       "      <td>Germany</td>\n",
       "      <td>DE</td>\n",
       "      <td>05917549662</td>\n",
       "      <td>2000-03-29</td>\n",
       "      <td>8a77629e-7ca1-409f-b22c-c24056bd4eb1</td>\n",
       "    </tr>\n",
       "    <tr>\n",
       "      <th>15285</th>\n",
       "      <td>15316</td>\n",
       "      <td>Erna</td>\n",
       "      <td>Hoffmann</td>\n",
       "      <td>1967-10-28</td>\n",
       "      <td>Atzler Seifert AG &amp; Co. KGaA</td>\n",
       "      <td>dunjafischer@vollbrecht.de</td>\n",
       "      <td>Henkallee 186 33456 Sankt Goarshausen</td>\n",
       "      <td>Germany</td>\n",
       "      <td>DE</td>\n",
       "      <td>00490738451073</td>\n",
       "      <td>2018-03-13</td>\n",
       "      <td>5f57209e-8695-4863-b9e7-084a4ba02808</td>\n",
       "    </tr>\n",
       "    <tr>\n",
       "      <th>15286</th>\n",
       "      <td>15317</td>\n",
       "      <td>Konstantinos</td>\n",
       "      <td>Thanel</td>\n",
       "      <td>1954-08-05</td>\n",
       "      <td>Fritsch Ehlert GmbH</td>\n",
       "      <td>rpruschke@gotthard.com</td>\n",
       "      <td>Steffi-Rose-Platz 16 12365 Apolda</td>\n",
       "      <td>Germany</td>\n",
       "      <td>DE</td>\n",
       "      <td>07856050049</td>\n",
       "      <td>2007-07-21</td>\n",
       "      <td>6f16e0ce-9b07-4479-a151-7efdd35408aa</td>\n",
       "    </tr>\n",
       "    <tr>\n",
       "      <th>15287</th>\n",
       "      <td>15318</td>\n",
       "      <td>Caroline</td>\n",
       "      <td>Fisher</td>\n",
       "      <td>1975-09-27</td>\n",
       "      <td>Coleman Ltd</td>\n",
       "      <td>wardshaun@miah.org</td>\n",
       "      <td>826 Hollie park Khanberg M9J 1GP</td>\n",
       "      <td>United Kingdom</td>\n",
       "      <td>GB</td>\n",
       "      <td>01154960754</td>\n",
       "      <td>2016-11-26</td>\n",
       "      <td>1a202edd-20aa-4787-b3b3-622fc01a9d08</td>\n",
       "    </tr>\n",
       "    <tr>\n",
       "      <th>15288</th>\n",
       "      <td>15319</td>\n",
       "      <td>Terence</td>\n",
       "      <td>Newton</td>\n",
       "      <td>1946-10-22</td>\n",
       "      <td>Gardner-Williams</td>\n",
       "      <td>freynolds@martin.com</td>\n",
       "      <td>42 Williams terrace North Elizabethton W7 4JJ</td>\n",
       "      <td>United Kingdom</td>\n",
       "      <td>GB</td>\n",
       "      <td>01414960200</td>\n",
       "      <td>2004-06-13</td>\n",
       "      <td>39611895-c08e-4b4a-80cb-314b738066ca</td>\n",
       "    </tr>\n",
       "  </tbody>\n",
       "</table>\n",
       "<p>15284 rows × 12 columns</p>\n",
       "</div>"
      ],
      "text/plain": [
       "       index    first_name last_name date_of_birth                       company                 email_address                                         address         country country_code     phone_number  join_date                             user_uuid\n",
       "0          0      Sigfried     Noack    1990-09-30            Heydrich Junitz KG             rudi79@winkler.de                      Zimmerstr. 10 59015 Gießen         Germany           DE   00490047905356 2018-10-10  93caf182-e4e9-4c6e-bebb-60a1a9dcf9b8\n",
       "1          1           Guy     Allen    1940-12-01                       Fox Ltd  rhodesclifford@henderson.com  Studio 22a Lynne terrace McCarthymouth TF0 9GH  United Kingdom           GB      01614960674 2001-12-20  8fe96c3a-d62d-4eb5-b313-cf12d9126a49\n",
       "2          2         Harry  Lawrence    1995-08-02     Johnson, Jones and Harris  glen98@bryant-marshall.co.uk                92 Ann drive Joanborough SK0 6LR  United Kingdom           GB  004401214960340 2016-12-16  fc461df4-b919-48b2-909e-55c95a03fe6b\n",
       "3          3        Darren   Hussain    1972-09-23                   Wheeler LLC    daniellebryan@thompson.org            19 Robinson meadow New Tracy W22 2QG  United Kingdom           GB      03069990871 2004-02-23  6104719f-ef14-4b09-bf04-fb0c4620acb0\n",
       "4          4         Garry     Stone    1952-12-20                    Warner Inc       billy14@long-warren.com             3 White pass Hunterborough NN96 4UE  United Kingdom           GB      01214960225 2006-09-01  9523a6d3-b2dd-4670-a51a-36aebc89f579\n",
       "...      ...           ...       ...           ...                           ...                           ...                                             ...             ...          ...              ...        ...                                   ...\n",
       "15284  15315         Marta     Rogge    1981-03-03                        Dehmel    baererklothilde@trubin.com                  Ziegertstr. 60 93330 Stollberg         Germany           DE      05917549662 2000-03-29  8a77629e-7ca1-409f-b22c-c24056bd4eb1\n",
       "15285  15316          Erna  Hoffmann    1967-10-28  Atzler Seifert AG & Co. KGaA    dunjafischer@vollbrecht.de           Henkallee 186 33456 Sankt Goarshausen         Germany           DE   00490738451073 2018-03-13  5f57209e-8695-4863-b9e7-084a4ba02808\n",
       "15286  15317  Konstantinos    Thanel    1954-08-05           Fritsch Ehlert GmbH        rpruschke@gotthard.com               Steffi-Rose-Platz 16 12365 Apolda         Germany           DE      07856050049 2007-07-21  6f16e0ce-9b07-4479-a151-7efdd35408aa\n",
       "15287  15318      Caroline    Fisher    1975-09-27                   Coleman Ltd            wardshaun@miah.org                826 Hollie park Khanberg M9J 1GP  United Kingdom           GB      01154960754 2016-11-26  1a202edd-20aa-4787-b3b3-622fc01a9d08\n",
       "15288  15319       Terence    Newton    1946-10-22              Gardner-Williams          freynolds@martin.com   42 Williams terrace North Elizabethton W7 4JJ  United Kingdom           GB      01414960200 2004-06-13  39611895-c08e-4b4a-80cb-314b738066ca\n",
       "\n",
       "[15284 rows x 12 columns]"
      ]
     },
     "execution_count": 61,
     "metadata": {},
     "output_type": "execute_result"
    }
   ],
   "source": [
    "new"
   ]
  },
  {
   "cell_type": "code",
   "execution_count": 63,
   "metadata": {},
   "outputs": [
    {
     "name": "stdout",
     "output_type": "stream",
     "text": [
      "<class 'pandas.core.frame.DataFrame'>\n",
      "Int64Index: 15284 entries, 0 to 15288\n",
      "Data columns (total 12 columns):\n",
      " #   Column         Non-Null Count  Dtype         \n",
      "---  ------         --------------  -----         \n",
      " 0   index          15284 non-null  int64         \n",
      " 1   first_name     15284 non-null  string        \n",
      " 2   last_name      15284 non-null  string        \n",
      " 3   date_of_birth  15284 non-null  datetime64[ns]\n",
      " 4   company        15284 non-null  object        \n",
      " 5   email_address  15284 non-null  object        \n",
      " 6   address        15284 non-null  string        \n",
      " 7   country        15284 non-null  object        \n",
      " 8   country_code   15284 non-null  object        \n",
      " 9   phone_number   15284 non-null  string        \n",
      " 10  join_date      15284 non-null  datetime64[ns]\n",
      " 11  user_uuid      15284 non-null  object        \n",
      "dtypes: datetime64[ns](2), int64(1), object(5), string(4)\n",
      "memory usage: 1.5+ MB\n"
     ]
    }
   ],
   "source": [
    "new.info()"
   ]
  },
  {
   "cell_type": "code",
   "execution_count": null,
   "metadata": {},
   "outputs": [],
   "source": []
  }
 ],
 "metadata": {
  "kernelspec": {
   "display_name": "data",
   "language": "python",
   "name": "python3"
  },
  "language_info": {
   "codemirror_mode": {
    "name": "ipython",
    "version": 3
   },
   "file_extension": ".py",
   "mimetype": "text/x-python",
   "name": "python",
   "nbconvert_exporter": "python",
   "pygments_lexer": "ipython3",
   "version": "3.9.16"
  },
  "orig_nbformat": 4
 },
 "nbformat": 4,
 "nbformat_minor": 2
}
